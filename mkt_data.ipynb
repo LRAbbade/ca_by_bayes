{
 "cells": [
  {
   "cell_type": "code",
   "execution_count": 65,
   "metadata": {},
   "outputs": [],
   "source": [
    "from urllib.request import urlretrieve\n",
    "import zipfile\n",
    "import os\n",
    "from datetime import date, datetime\n",
    "import pandas as pd"
   ]
  },
  {
   "cell_type": "code",
   "execution_count": 118,
   "metadata": {},
   "outputs": [],
   "source": [
    "%matplotlib inline"
   ]
  },
  {
   "cell_type": "code",
   "execution_count": 42,
   "metadata": {},
   "outputs": [],
   "source": [
    "def download_year(year):\n",
    "    file_path = f'files/{year}.zip'\n",
    "    urlretrieve(f'http://bvmf.bmfbovespa.com.br/InstDados/SerHist/COTAHIST_A{year}.ZIP', file_path)\n",
    "    return file_path"
   ]
  },
  {
   "cell_type": "code",
   "execution_count": 11,
   "metadata": {},
   "outputs": [],
   "source": [
    "def unzip(file_path):\n",
    "    with zipfile.ZipFile(file_path, 'r') as zip_ref:\n",
    "        zip_ref.extractall('files/')"
   ]
  },
  {
   "cell_type": "code",
   "execution_count": 12,
   "metadata": {},
   "outputs": [],
   "source": [
    "def _to_float(s):\n",
    "    return float(s[:-2] + '.' + s[-2:])"
   ]
  },
  {
   "cell_type": "code",
   "execution_count": 81,
   "metadata": {},
   "outputs": [],
   "source": [
    "def _get_info(line):\n",
    "    return {\n",
    "        'date': line[2:10],\n",
    "        'trading_code': line[12:23].strip(),\n",
    "        'short_name': line[27:38].strip(),\n",
    "        'open': _to_float(line[56:69].strip()),\n",
    "        'high': _to_float(line[70:82].strip()),\n",
    "        'low': _to_float(line[83:95].strip()),\n",
    "        'close': _to_float(line[109:121].strip()),\n",
    "        'bid': _to_float(line[122:134].strip()),\n",
    "        'ask': _to_float(line[135:147].strip()),\n",
    "        'volume': _to_float(line[170:187].strip())\n",
    "    }"
   ]
  },
  {
   "cell_type": "code",
   "execution_count": 99,
   "metadata": {},
   "outputs": [],
   "source": [
    "years = list(range(2016, 2022))"
   ]
  },
  {
   "cell_type": "code",
   "execution_count": null,
   "metadata": {},
   "outputs": [],
   "source": [
    "for year in years:\n",
    "    file = download_year(year)\n",
    "    unzip(file)"
   ]
  },
  {
   "cell_type": "code",
   "execution_count": 44,
   "metadata": {},
   "outputs": [
    {
     "name": "stdout",
     "output_type": "stream",
     "text": [
      "COTAHIST_A2016.TXT COTAHIST_A2018.TXT COTAHIST_A2020.TXT\r\n",
      "COTAHIST_A2017.TXT COTAHIST_A2019.TXT COTAHIST_A2021.TXT\r\n"
     ]
    }
   ],
   "source": [
    "!ls files"
   ]
  },
  {
   "cell_type": "code",
   "execution_count": 100,
   "metadata": {},
   "outputs": [],
   "source": [
    "files = [f'files/COTAHIST_A{year}.TXT' for year in years]"
   ]
  },
  {
   "cell_type": "code",
   "execution_count": 102,
   "metadata": {},
   "outputs": [],
   "source": [
    "def parse_file(path):\n",
    "    with open(path, 'r') as file:\n",
    "        content = file.read()\n",
    "        \n",
    "    lines = content.split('\\n')[1:-2]   # drop header and footer\n",
    "    df = pd.DataFrame([_get_info(line) for line in lines])\n",
    "    df['date'] = df['date'].map(lambda d: datetime.strptime(d, '%Y%m%d'))\n",
    "    return df.rename({'trading_code': 'ticker'}, axis=1).drop('short_name', axis=1).set_index(['date', 'ticker'])"
   ]
  },
  {
   "cell_type": "code",
   "execution_count": 107,
   "metadata": {},
   "outputs": [],
   "source": [
    "def make_df(files, ticker):\n",
    "    full_df = pd.DataFrame()\n",
    "    for file in files:\n",
    "        df = parse_file(file)\n",
    "        df = df.reset_index()\n",
    "        df = df[df['ticker'] == ticker]\n",
    "        full_df = full_df.append(df.set_index('date'), sort=True)\n",
    "        \n",
    "    df = full_df.sort_index()\n",
    "    df = df[['open', 'close']]\n",
    "    df['next_open'] = df['open'].shift(-1)\n",
    "    df = df.dropna()\n",
    "    df['overnight'] = df['next_open'] / df['close'] - 1\n",
    "    return df"
   ]
  },
  {
   "cell_type": "markdown",
   "metadata": {},
   "source": [
    "### I'll start with 1 year"
   ]
  },
  {
   "cell_type": "code",
   "execution_count": 108,
   "metadata": {},
   "outputs": [],
   "source": [
    "df = make_df(['files/COTAHIST_A2021.TXT'], 'ITUB4')   # using itub because they pay a lot of dividends"
   ]
  },
  {
   "cell_type": "code",
   "execution_count": 95,
   "metadata": {},
   "outputs": [
    {
     "data": {
      "text/html": [
       "<div>\n",
       "<style scoped>\n",
       "    .dataframe tbody tr th:only-of-type {\n",
       "        vertical-align: middle;\n",
       "    }\n",
       "\n",
       "    .dataframe tbody tr th {\n",
       "        vertical-align: top;\n",
       "    }\n",
       "\n",
       "    .dataframe thead th {\n",
       "        text-align: right;\n",
       "    }\n",
       "</style>\n",
       "<table border=\"1\" class=\"dataframe\">\n",
       "  <thead>\n",
       "    <tr style=\"text-align: right;\">\n",
       "      <th></th>\n",
       "      <th>open</th>\n",
       "      <th>close</th>\n",
       "      <th>next_open</th>\n",
       "      <th>overnight</th>\n",
       "    </tr>\n",
       "    <tr>\n",
       "      <th>date</th>\n",
       "      <th></th>\n",
       "      <th></th>\n",
       "      <th></th>\n",
       "      <th></th>\n",
       "    </tr>\n",
       "  </thead>\n",
       "  <tbody>\n",
       "    <tr>\n",
       "      <th>2021-02-19</th>\n",
       "      <td>27.89</td>\n",
       "      <td>27.62</td>\n",
       "      <td>26.55</td>\n",
       "      <td>-0.038740</td>\n",
       "    </tr>\n",
       "    <tr>\n",
       "      <th>2021-10-01</th>\n",
       "      <td>29.12</td>\n",
       "      <td>29.67</td>\n",
       "      <td>24.75</td>\n",
       "      <td>-0.165824</td>\n",
       "    </tr>\n",
       "  </tbody>\n",
       "</table>\n",
       "</div>"
      ],
      "text/plain": [
       "             open  close  next_open  overnight\n",
       "date                                          \n",
       "2021-02-19  27.89  27.62      26.55  -0.038740\n",
       "2021-10-01  29.12  29.67      24.75  -0.165824"
      ]
     },
     "execution_count": 95,
     "metadata": {},
     "output_type": "execute_result"
    }
   ],
   "source": [
    "# possible candidates, just out of curiosity\n",
    "df[df['overnight'] < df['overnight'].mean() - 2 * df['overnight'].std()]"
   ]
  },
  {
   "cell_type": "markdown",
   "metadata": {},
   "source": [
    "Checking other sources, indeed there was a dividend on 2021-10-01, but not on 2021-02-19, and there were maany others that didn't show up on this simple filter, so not a great filter"
   ]
  },
  {
   "cell_type": "code",
   "execution_count": 98,
   "metadata": {},
   "outputs": [],
   "source": [
    "df.to_parquet('data/itub_2021.parquet')"
   ]
  },
  {
   "cell_type": "markdown",
   "metadata": {},
   "source": [
    "---"
   ]
  },
  {
   "cell_type": "markdown",
   "metadata": {},
   "source": [
    "#### I'll try the full 6 years of vale now, their divs are usually larger"
   ]
  },
  {
   "cell_type": "code",
   "execution_count": 111,
   "metadata": {},
   "outputs": [],
   "source": [
    "df = make_df(files, 'VALE3')"
   ]
  },
  {
   "cell_type": "code",
   "execution_count": 112,
   "metadata": {},
   "outputs": [
    {
     "data": {
      "text/html": [
       "<div>\n",
       "<style scoped>\n",
       "    .dataframe tbody tr th:only-of-type {\n",
       "        vertical-align: middle;\n",
       "    }\n",
       "\n",
       "    .dataframe tbody tr th {\n",
       "        vertical-align: top;\n",
       "    }\n",
       "\n",
       "    .dataframe thead th {\n",
       "        text-align: right;\n",
       "    }\n",
       "</style>\n",
       "<table border=\"1\" class=\"dataframe\">\n",
       "  <thead>\n",
       "    <tr style=\"text-align: right;\">\n",
       "      <th></th>\n",
       "      <th>open</th>\n",
       "      <th>close</th>\n",
       "      <th>next_open</th>\n",
       "      <th>overnight</th>\n",
       "    </tr>\n",
       "    <tr>\n",
       "      <th>date</th>\n",
       "      <th></th>\n",
       "      <th></th>\n",
       "      <th></th>\n",
       "      <th></th>\n",
       "    </tr>\n",
       "  </thead>\n",
       "  <tbody>\n",
       "    <tr>\n",
       "      <th>2016-01-04</th>\n",
       "      <td>12.49</td>\n",
       "      <td>12.69</td>\n",
       "      <td>12.67</td>\n",
       "      <td>-0.001576</td>\n",
       "    </tr>\n",
       "    <tr>\n",
       "      <th>2016-01-05</th>\n",
       "      <td>12.67</td>\n",
       "      <td>12.52</td>\n",
       "      <td>12.08</td>\n",
       "      <td>-0.035144</td>\n",
       "    </tr>\n",
       "    <tr>\n",
       "      <th>2016-01-06</th>\n",
       "      <td>12.08</td>\n",
       "      <td>11.60</td>\n",
       "      <td>11.26</td>\n",
       "      <td>-0.029310</td>\n",
       "    </tr>\n",
       "    <tr>\n",
       "      <th>2016-01-07</th>\n",
       "      <td>11.26</td>\n",
       "      <td>10.91</td>\n",
       "      <td>11.07</td>\n",
       "      <td>0.014665</td>\n",
       "    </tr>\n",
       "    <tr>\n",
       "      <th>2016-01-08</th>\n",
       "      <td>11.07</td>\n",
       "      <td>10.54</td>\n",
       "      <td>10.50</td>\n",
       "      <td>-0.003795</td>\n",
       "    </tr>\n",
       "    <tr>\n",
       "      <th>...</th>\n",
       "      <td>...</td>\n",
       "      <td>...</td>\n",
       "      <td>...</td>\n",
       "      <td>...</td>\n",
       "    </tr>\n",
       "    <tr>\n",
       "      <th>2021-12-22</th>\n",
       "      <td>79.89</td>\n",
       "      <td>79.92</td>\n",
       "      <td>79.95</td>\n",
       "      <td>0.000375</td>\n",
       "    </tr>\n",
       "    <tr>\n",
       "      <th>2021-12-23</th>\n",
       "      <td>79.95</td>\n",
       "      <td>79.15</td>\n",
       "      <td>78.87</td>\n",
       "      <td>-0.003538</td>\n",
       "    </tr>\n",
       "    <tr>\n",
       "      <th>2021-12-27</th>\n",
       "      <td>78.87</td>\n",
       "      <td>78.95</td>\n",
       "      <td>78.51</td>\n",
       "      <td>-0.005573</td>\n",
       "    </tr>\n",
       "    <tr>\n",
       "      <th>2021-12-28</th>\n",
       "      <td>78.51</td>\n",
       "      <td>76.80</td>\n",
       "      <td>76.38</td>\n",
       "      <td>-0.005469</td>\n",
       "    </tr>\n",
       "    <tr>\n",
       "      <th>2021-12-29</th>\n",
       "      <td>76.38</td>\n",
       "      <td>77.25</td>\n",
       "      <td>77.99</td>\n",
       "      <td>0.009579</td>\n",
       "    </tr>\n",
       "  </tbody>\n",
       "</table>\n",
       "<p>1483 rows × 4 columns</p>\n",
       "</div>"
      ],
      "text/plain": [
       "             open  close  next_open  overnight\n",
       "date                                          \n",
       "2016-01-04  12.49  12.69      12.67  -0.001576\n",
       "2016-01-05  12.67  12.52      12.08  -0.035144\n",
       "2016-01-06  12.08  11.60      11.26  -0.029310\n",
       "2016-01-07  11.26  10.91      11.07   0.014665\n",
       "2016-01-08  11.07  10.54      10.50  -0.003795\n",
       "...           ...    ...        ...        ...\n",
       "2021-12-22  79.89  79.92      79.95   0.000375\n",
       "2021-12-23  79.95  79.15      78.87  -0.003538\n",
       "2021-12-27  78.87  78.95      78.51  -0.005573\n",
       "2021-12-28  78.51  76.80      76.38  -0.005469\n",
       "2021-12-29  76.38  77.25      77.99   0.009579\n",
       "\n",
       "[1483 rows x 4 columns]"
      ]
     },
     "execution_count": 112,
     "metadata": {},
     "output_type": "execute_result"
    }
   ],
   "source": [
    "df"
   ]
  },
  {
   "cell_type": "code",
   "execution_count": 117,
   "metadata": {},
   "outputs": [
    {
     "data": {
      "text/plain": [
       "<AxesSubplot:xlabel='date'>"
      ]
     },
     "execution_count": 117,
     "metadata": {},
     "output_type": "execute_result"
    },
    {
     "data": {
      "image/png": "[encoded data removed]",
      "text/plain": [
       "<Figure size 432x288 with 1 Axes>"
      ]
     },
     "metadata": {
      "needs_background": "light"
     },
     "output_type": "display_data"
    }
   ],
   "source": [
    "df.plot(y='close')"
   ]
  },
  {
   "cell_type": "markdown",
   "metadata": {},
   "source": [
    "looks right"
   ]
  },
  {
   "cell_type": "code",
   "execution_count": 116,
   "metadata": {},
   "outputs": [],
   "source": [
    "df.to_parquet('data/vale.parquet')"
   ]
  }
 ],
 "metadata": {
  "kernelspec": {
   "display_name": "Python 3",
   "language": "python",
   "name": "python3"
  },
  "language_info": {
   "codemirror_mode": {
    "name": "ipython",
    "version": 3
   },
   "file_extension": ".py",
   "mimetype": "text/x-python",
   "name": "python",
   "nbconvert_exporter": "python",
   "pygments_lexer": "ipython3",
   "version": "3.7.4"
  }
 },
 "nbformat": 4,
 "nbformat_minor": 2
}
