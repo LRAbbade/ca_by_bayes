{
 "cells": [
  {
   "cell_type": "code",
   "execution_count": null,
   "metadata": {},
   "outputs": [],
   "source": [
    "from urllib.request import urlretrieve\n",
    "import zipfile"
   ]
  },
  {
   "cell_type": "code",
   "execution_count": null,
   "metadata": {},
   "outputs": [],
   "source": [
    "def download_year(year):\n",
    "    file_path = f'dags/files/{year}.zip'\n",
    "    urlretrieve(f'http://bvmf.bmfbovespa.com.br/InstDados/SerHist/COTAHIST_A{year}.ZIP', file_path)\n",
    "    return file_path"
   ]
  },
  {
   "cell_type": "code",
   "execution_count": null,
   "metadata": {},
   "outputs": [],
   "source": [
    "def unzip(file_path):\n",
    "    with zipfile.ZipFile(file_path, 'r') as zip_ref:\n",
    "        zip_ref.extractall('dags/files/')"
   ]
  },
  {
   "cell_type": "code",
   "execution_count": null,
   "metadata": {},
   "outputs": [],
   "source": [
    "def _to_float(s):\n",
    "    return float(s[:-2] + '.' + s[-2:])"
   ]
  },
  {
   "cell_type": "code",
   "execution_count": null,
   "metadata": {},
   "outputs": [],
   "source": [
    "def _get_info(line):\n",
    "    return {\n",
    "        'date': line[2:10],\n",
    "        'trading_code': line[12:23].strip(),\n",
    "        'short_name': line[27:38].strip(),\n",
    "        'open': _to_float(line[56:68].strip()),\n",
    "        'high': _to_float(line[69:81].strip()),\n",
    "        'low': _to_float(line[82:94].strip()),\n",
    "        'close': _to_float(line[108:120].strip()),\n",
    "        'bid': _to_float(line[121:133].strip()),\n",
    "        'ask': _to_float(line[134:146].strip()),\n",
    "        'volume': _to_float(line[170:187].strip())\n",
    "    }"
   ]
  },
  {
   "cell_type": "code",
   "execution_count": null,
   "metadata": {},
   "outputs": [],
   "source": [
    "def process(paths):\n",
    "    csv_paths = []\n",
    "    for path in paths:\n",
    "        print(f'Parsing file {path!r}')\n",
    "        year = get_year_re.findall(path)[0]\n",
    "        data = []\n",
    "        with open(path, 'r') as file:\n",
    "            for line in file:\n",
    "                try:\n",
    "                    data.append(_get_info(line))\n",
    "                except Exception as e:\n",
    "                    print(f'Error processing line:\\n{line}\\n{e}')\n",
    "\n",
    "        csv_path = f'dags/csv/{year}.csv'\n",
    "        csv_paths.append(csv_path)\n",
    "        pd.DataFrame(data).to_csv(csv_path, index=False)\n",
    "\n",
    "    return csv_paths"
   ]
  }
 ],
 "metadata": {
  "kernelspec": {
   "display_name": "Python 3",
   "language": "python",
   "name": "python3"
  },
  "language_info": {
   "codemirror_mode": {
    "name": "ipython",
    "version": 3
   },
   "file_extension": ".py",
   "mimetype": "text/x-python",
   "name": "python",
   "nbconvert_exporter": "python",
   "pygments_lexer": "ipython3",
   "version": "3.7.4"
  }
 },
 "nbformat": 4,
 "nbformat_minor": 2
}
