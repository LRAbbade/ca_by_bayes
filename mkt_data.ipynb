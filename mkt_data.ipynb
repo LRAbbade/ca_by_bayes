{
 "cells": [
  {
   "cell_type": "code",
   "execution_count": 65,
   "metadata": {},
   "outputs": [],
   "source": [
    "from urllib.request import urlretrieve\n",
    "import zipfile\n",
    "import os\n",
    "from datetime import date, datetime\n",
    "import pandas as pd"
   ]
  },
  {
   "cell_type": "code",
   "execution_count": 42,
   "metadata": {},
   "outputs": [],
   "source": [
    "def download_year(year):\n",
    "    file_path = f'files/{year}.zip'\n",
    "    urlretrieve(f'http://bvmf.bmfbovespa.com.br/InstDados/SerHist/COTAHIST_A{year}.ZIP', file_path)\n",
    "    return file_path"
   ]
  },
  {
   "cell_type": "code",
   "execution_count": 11,
   "metadata": {},
   "outputs": [],
   "source": [
    "def unzip(file_path):\n",
    "    with zipfile.ZipFile(file_path, 'r') as zip_ref:\n",
    "        zip_ref.extractall('files/')"
   ]
  },
  {
   "cell_type": "code",
   "execution_count": 12,
   "metadata": {},
   "outputs": [],
   "source": [
    "def _to_float(s):\n",
    "    return float(s[:-2] + '.' + s[-2:])"
   ]
  },
  {
   "cell_type": "code",
   "execution_count": 81,
   "metadata": {},
   "outputs": [],
   "source": [
    "def _get_info(line):\n",
    "    return {\n",
    "        'date': line[2:10],\n",
    "        'trading_code': line[12:23].strip(),\n",
    "        'short_name': line[27:38].strip(),\n",
    "        'open': _to_float(line[56:69].strip()),\n",
    "        'high': _to_float(line[70:82].strip()),\n",
    "        'low': _to_float(line[83:95].strip()),\n",
    "        'close': _to_float(line[109:121].strip()),\n",
    "        'bid': _to_float(line[122:134].strip()),\n",
    "        'ask': _to_float(line[135:147].strip()),\n",
    "        'volume': _to_float(line[170:187].strip())\n",
    "    }"
   ]
  },
  {
   "cell_type": "code",
   "execution_count": 14,
   "metadata": {},
   "outputs": [],
   "source": [
    "years = list(range(2016, 2022))"
   ]
  },
  {
   "cell_type": "code",
   "execution_count": null,
   "metadata": {},
   "outputs": [],
   "source": [
    "for year in years:\n",
    "    file = download_year(year)\n",
    "    unzip(file)"
   ]
  },
  {
   "cell_type": "code",
   "execution_count": 44,
   "metadata": {},
   "outputs": [
    {
     "name": "stdout",
     "output_type": "stream",
     "text": [
      "COTAHIST_A2016.TXT COTAHIST_A2018.TXT COTAHIST_A2020.TXT\r\n",
      "COTAHIST_A2017.TXT COTAHIST_A2019.TXT COTAHIST_A2021.TXT\r\n"
     ]
    }
   ],
   "source": [
    "!ls files"
   ]
  },
  {
   "cell_type": "code",
   "execution_count": 45,
   "metadata": {},
   "outputs": [],
   "source": [
    "files = [f'files/COTAHIST_A{year}.TXT' for year in years]"
   ]
  },
  {
   "cell_type": "code",
   "execution_count": 68,
   "metadata": {},
   "outputs": [],
   "source": [
    "def parse_file(path):\n",
    "    with open(path, 'r') as file:\n",
    "        content = file.read()\n",
    "        \n",
    "    lines = content.split('\\n')[1:-2]   # drop header and footer\n",
    "    df = pd.DataFrame([_get_info(line) for line in lines])\n",
    "    df['date'] = df['date'].map(lambda d: datetime.strptime(d, '%Y%m%d'))\n",
    "    return df.rename({'trading_code': 'ticker'}, axis=1).drop('short_name', axis=1).set_index(['date', 'ticker'])"
   ]
  },
  {
   "cell_type": "code",
   "execution_count": 87,
   "metadata": {},
   "outputs": [],
   "source": [
    "def make_df(files):\n",
    "    full_df = pd.DataFrame()\n",
    "    for file in files:\n",
    "        df = parse_file(file)\n",
    "        df = df.reset_index()\n",
    "        df = df[df['ticker'] == 'ITUB4']    # using itub because they pay a lot of dividends\n",
    "        full_df = full_df.append(df.set_index('date'), sort=True)\n",
    "        \n",
    "    return full_df.sort_index()"
   ]
  },
  {
   "cell_type": "markdown",
   "metadata": {},
   "source": [
    "### I'll start with 1 year"
   ]
  },
  {
   "cell_type": "code",
   "execution_count": 88,
   "metadata": {},
   "outputs": [],
   "source": [
    "df = make_df(['files/COTAHIST_A2021.TXT'])"
   ]
  },
  {
   "cell_type": "code",
   "execution_count": 93,
   "metadata": {},
   "outputs": [
    {
     "name": "stderr",
     "output_type": "stream",
     "text": [
      "/Users/lucasabbade/anaconda3/lib/python3.7/site-packages/ipykernel_launcher.py:2: SettingWithCopyWarning: \n",
      "A value is trying to be set on a copy of a slice from a DataFrame.\n",
      "Try using .loc[row_indexer,col_indexer] = value instead\n",
      "\n",
      "See the caveats in the documentation: https://pandas.pydata.org/pandas-docs/stable/user_guide/indexing.html#returning-a-view-versus-a-copy\n",
      "  \n"
     ]
    }
   ],
   "source": [
    "df = df[['open', 'close']]\n",
    "df['next_open'] = df['open'].shift(-1)\n",
    "df = df.dropna()\n",
    "df['overnight'] = df['next_open'] / df['close'] - 1"
   ]
  },
  {
   "cell_type": "code",
   "execution_count": 95,
   "metadata": {},
   "outputs": [
    {
     "data": {
      "text/html": [
       "<div>\n",
       "<style scoped>\n",
       "    .dataframe tbody tr th:only-of-type {\n",
       "        vertical-align: middle;\n",
       "    }\n",
       "\n",
       "    .dataframe tbody tr th {\n",
       "        vertical-align: top;\n",
       "    }\n",
       "\n",
       "    .dataframe thead th {\n",
       "        text-align: right;\n",
       "    }\n",
       "</style>\n",
       "<table border=\"1\" class=\"dataframe\">\n",
       "  <thead>\n",
       "    <tr style=\"text-align: right;\">\n",
       "      <th></th>\n",
       "      <th>open</th>\n",
       "      <th>close</th>\n",
       "      <th>next_open</th>\n",
       "      <th>overnight</th>\n",
       "    </tr>\n",
       "    <tr>\n",
       "      <th>date</th>\n",
       "      <th></th>\n",
       "      <th></th>\n",
       "      <th></th>\n",
       "      <th></th>\n",
       "    </tr>\n",
       "  </thead>\n",
       "  <tbody>\n",
       "    <tr>\n",
       "      <th>2021-02-19</th>\n",
       "      <td>27.89</td>\n",
       "      <td>27.62</td>\n",
       "      <td>26.55</td>\n",
       "      <td>-0.038740</td>\n",
       "    </tr>\n",
       "    <tr>\n",
       "      <th>2021-10-01</th>\n",
       "      <td>29.12</td>\n",
       "      <td>29.67</td>\n",
       "      <td>24.75</td>\n",
       "      <td>-0.165824</td>\n",
       "    </tr>\n",
       "  </tbody>\n",
       "</table>\n",
       "</div>"
      ],
      "text/plain": [
       "             open  close  next_open  overnight\n",
       "date                                          \n",
       "2021-02-19  27.89  27.62      26.55  -0.038740\n",
       "2021-10-01  29.12  29.67      24.75  -0.165824"
      ]
     },
     "execution_count": 95,
     "metadata": {},
     "output_type": "execute_result"
    }
   ],
   "source": [
    "# possible candidates, just out of curiosity\n",
    "df[df['overnight'] < df['overnight'].mean() - 2 * df['overnight'].std()]"
   ]
  },
  {
   "cell_type": "markdown",
   "metadata": {},
   "source": [
    "Checking other sources, indeed there was a dividend on 2021-10-01, but not on 2021-02-19, and there were maany others that didn't show up on this simple filter, so not a great filter"
   ]
  },
  {
   "cell_type": "code",
   "execution_count": 98,
   "metadata": {},
   "outputs": [],
   "source": [
    "df.to_parquet('data/itub_2021.parquet')"
   ]
  }
 ],
 "metadata": {
  "kernelspec": {
   "display_name": "Python 3",
   "language": "python",
   "name": "python3"
  },
  "language_info": {
   "codemirror_mode": {
    "name": "ipython",
    "version": 3
   },
   "file_extension": ".py",
   "mimetype": "text/x-python",
   "name": "python",
   "nbconvert_exporter": "python",
   "pygments_lexer": "ipython3",
   "version": "3.7.4"
  }
 },
 "nbformat": 4,
 "nbformat_minor": 2
}
