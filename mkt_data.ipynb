{
 "cells": [
  {
   "cell_type": "code",
   "execution_count": 65,
   "metadata": {},
   "outputs": [],
   "source": [
    "from urllib.request import urlretrieve\n",
    "import zipfile\n",
    "import os\n",
    "from datetime import date, datetime\n",
    "import pandas as pd"
   ]
  },
  {
   "cell_type": "code",
   "execution_count": 42,
   "metadata": {},
   "outputs": [],
   "source": [
    "def download_year(year):\n",
    "    file_path = f'files/{year}.zip'\n",
    "    urlretrieve(f'http://bvmf.bmfbovespa.com.br/InstDados/SerHist/COTAHIST_A{year}.ZIP', file_path)\n",
    "    return file_path"
   ]
  },
  {
   "cell_type": "code",
   "execution_count": 11,
   "metadata": {},
   "outputs": [],
   "source": [
    "def unzip(file_path):\n",
    "    with zipfile.ZipFile(file_path, 'r') as zip_ref:\n",
    "        zip_ref.extractall('files/')"
   ]
  },
  {
   "cell_type": "code",
   "execution_count": 12,
   "metadata": {},
   "outputs": [],
   "source": [
    "def _to_float(s):\n",
    "    return float(s[:-2] + '.' + s[-2:])"
   ]
  },
  {
   "cell_type": "code",
   "execution_count": 81,
   "metadata": {},
   "outputs": [],
   "source": [
    "def _get_info(line):\n",
    "    return {\n",
    "        'date': line[2:10],\n",
    "        'trading_code': line[12:23].strip(),\n",
    "        'short_name': line[27:38].strip(),\n",
    "        'open': _to_float(line[56:69].strip()),\n",
    "        'high': _to_float(line[70:82].strip()),\n",
    "        'low': _to_float(line[83:95].strip()),\n",
    "        'close': _to_float(line[109:121].strip()),\n",
    "        'bid': _to_float(line[122:134].strip()),\n",
    "        'ask': _to_float(line[135:147].strip()),\n",
    "        'volume': _to_float(line[170:187].strip())\n",
    "    }"
   ]
  },
  {
   "cell_type": "code",
   "execution_count": 14,
   "metadata": {},
   "outputs": [],
   "source": [
    "years = list(range(2016, 2022))"
   ]
  },
  {
   "cell_type": "code",
   "execution_count": null,
   "metadata": {},
   "outputs": [],
   "source": [
    "for year in years:\n",
    "    file = download_year(year)\n",
    "    unzip(file)"
   ]
  },
  {
   "cell_type": "code",
   "execution_count": 44,
   "metadata": {},
   "outputs": [
    {
     "name": "stdout",
     "output_type": "stream",
     "text": [
      "COTAHIST_A2016.TXT COTAHIST_A2018.TXT COTAHIST_A2020.TXT\r\n",
      "COTAHIST_A2017.TXT COTAHIST_A2019.TXT COTAHIST_A2021.TXT\r\n"
     ]
    }
   ],
   "source": [
    "!ls files"
   ]
  },
  {
   "cell_type": "code",
   "execution_count": 45,
   "metadata": {},
   "outputs": [],
   "source": [
    "files = [f'files/COTAHIST_A{year}.TXT' for year in years]"
   ]
  },
  {
   "cell_type": "code",
   "execution_count": 68,
   "metadata": {},
   "outputs": [],
   "source": [
    "def parse_file(path):\n",
    "    with open(path, 'r') as file:\n",
    "        content = file.read()\n",
    "        \n",
    "    lines = content.split('\\n')[1:-2]   # drop header and footer\n",
    "    df = pd.DataFrame([_get_info(line) for line in lines])\n",
    "    df['date'] = df['date'].map(lambda d: datetime.strptime(d, '%Y%m%d'))\n",
    "    return df.rename({'trading_code': 'ticker'}, axis=1).drop('short_name', axis=1).set_index(['date', 'ticker'])"
   ]
  },
  {
   "cell_type": "code",
   "execution_count": 87,
   "metadata": {},
   "outputs": [],
   "source": [
    "def make_df(files):\n",
    "    full_df = pd.DataFrame()\n",
    "    for file in files:\n",
    "        df = parse_file(file)\n",
    "        df = df.reset_index()\n",
    "        df = df[df['ticker'] == 'ITUB4']    # using itub because they pay a lot of dividends\n",
    "        full_df = full_df.append(df.set_index('date'), sort=True)\n",
    "        \n",
    "    return full_df.sort_index()"
   ]
  },
  {
   "cell_type": "markdown",
   "metadata": {},
   "source": [
    "### I'll start with 1 year"
   ]
  },
  {
   "cell_type": "code",
   "execution_count": 88,
   "metadata": {},
   "outputs": [],
   "source": [
    "df = make_df(['files/COTAHIST_A2021.TXT'])"
   ]
  },
  {
   "cell_type": "code",
   "execution_count": 93,
   "metadata": {},
   "outputs": [
    {
     "name": "stderr",
     "output_type": "stream",
     "text": [
      "/Users/lucasabbade/anaconda3/lib/python3.7/site-packages/ipykernel_launcher.py:2: SettingWithCopyWarning: \n",
      "A value is trying to be set on a copy of a slice from a DataFrame.\n",
      "Try using .loc[row_indexer,col_indexer] = value instead\n",
      "\n",
      "See the caveats in the documentation: https://pandas.pydata.org/pandas-docs/stable/user_guide/indexing.html#returning-a-view-versus-a-copy\n",
      "  \n"
     ]
    }
   ],
   "source": [
    "df = df[['open', 'close']]\n",
    "df['next_open'] = df['open'].shift(-1)\n",
    "df = df.dropna()\n",
    "df['overnight'] = df['next_open'] / df['close'] - 1"
   ]
  },
  {
   "cell_type": "code",
   "execution_count": 95,
   "metadata": {},
   "outputs": [
    {
     "data": {
      "text/html": [
       "<div>\n",
       "<style scoped>\n",
       "    .dataframe tbody tr th:only-of-type {\n",
       "        vertical-align: middle;\n",
       "    }\n",
       "\n",
       "    .dataframe tbody tr th {\n",
       "        vertical-align: top;\n",
       "    }\n",
       "\n",
       "    .dataframe thead th {\n",
       "        text-align: right;\n",
       "    }\n",
       "</style>\n",
       "<table border=\"1\" class=\"dataframe\">\n",
       "  <thead>\n",
       "    <tr style=\"text-align: right;\">\n",
       "      <th></th>\n",
       "      <th>open</th>\n",
       "      <th>close</th>\n",
       "      <th>next_open</th>\n",
       "      <th>overnight</th>\n",
       "    </tr>\n",
       "    <tr>\n",
       "      <th>date</th>\n",
       "      <th></th>\n",
       "      <th></th>\n",
       "      <th></th>\n",
       "      <th></th>\n",
       "    </tr>\n",
       "  </thead>\n",
       "  <tbody>\n",
       "    <tr>\n",
       "      <th>2021-02-19</th>\n",
       "      <td>27.89</td>\n",
       "      <td>27.62</td>\n",
       "      <td>26.55</td>\n",
       "      <td>-0.038740</td>\n",
       "    </tr>\n",
       "    <tr>\n",
       "      <th>2021-10-01</th>\n",
       "      <td>29.12</td>\n",
       "      <td>29.67</td>\n",
       "      <td>24.75</td>\n",
       "      <td>-0.165824</td>\n",
       "    </tr>\n",
       "  </tbody>\n",
       "</table>\n",
       "</div>"
      ],
      "text/plain": [
       "             open  close  next_open  overnight\n",
       "date                                          \n",
       "2021-02-19  27.89  27.62      26.55  -0.038740\n",
       "2021-10-01  29.12  29.67      24.75  -0.165824"
      ]
     },
     "execution_count": 95,
     "metadata": {},
     "output_type": "execute_result"
    }
   ],
   "source": [
    "# possible candidates, just out of curiosity\n",
    "df[df['overnight'] < df['overnight'].mean() - 2 * df['overnight'].std()]"
   ]
  },
  {
   "cell_type": "markdown",
   "metadata": {},
   "source": [
    "Checking other sources, indeed there was a dividend on 2021-10-01, but not on 2021-02-19, and there were maany others that didn't show up on this simple filter, so not a great filter"
   ]
  },
  {
   "cell_type": "code",
   "execution_count": 97,
   "metadata": {},
   "outputs": [
    {
     "data": {
      "text/html": [
       "<div>\n",
       "<style scoped>\n",
       "    .dataframe tbody tr th:only-of-type {\n",
       "        vertical-align: middle;\n",
       "    }\n",
       "\n",
       "    .dataframe tbody tr th {\n",
       "        vertical-align: top;\n",
       "    }\n",
       "\n",
       "    .dataframe thead th {\n",
       "        text-align: right;\n",
       "    }\n",
       "</style>\n",
       "<table border=\"1\" class=\"dataframe\">\n",
       "  <thead>\n",
       "    <tr style=\"text-align: right;\">\n",
       "      <th></th>\n",
       "      <th>open</th>\n",
       "      <th>close</th>\n",
       "      <th>next_open</th>\n",
       "      <th>overnight</th>\n",
       "    </tr>\n",
       "    <tr>\n",
       "      <th>date</th>\n",
       "      <th></th>\n",
       "      <th></th>\n",
       "      <th></th>\n",
       "      <th></th>\n",
       "    </tr>\n",
       "  </thead>\n",
       "  <tbody>\n",
       "    <tr>\n",
       "      <th>2021-01-04</th>\n",
       "      <td>31.98</td>\n",
       "      <td>30.90</td>\n",
       "      <td>30.73</td>\n",
       "      <td>-0.005502</td>\n",
       "    </tr>\n",
       "    <tr>\n",
       "      <th>2021-01-05</th>\n",
       "      <td>30.73</td>\n",
       "      <td>30.70</td>\n",
       "      <td>30.98</td>\n",
       "      <td>0.009121</td>\n",
       "    </tr>\n",
       "    <tr>\n",
       "      <th>2021-01-06</th>\n",
       "      <td>30.98</td>\n",
       "      <td>31.55</td>\n",
       "      <td>31.65</td>\n",
       "      <td>0.003170</td>\n",
       "    </tr>\n",
       "    <tr>\n",
       "      <th>2021-01-07</th>\n",
       "      <td>31.65</td>\n",
       "      <td>32.83</td>\n",
       "      <td>32.93</td>\n",
       "      <td>0.003046</td>\n",
       "    </tr>\n",
       "    <tr>\n",
       "      <th>2021-01-08</th>\n",
       "      <td>32.93</td>\n",
       "      <td>32.82</td>\n",
       "      <td>32.47</td>\n",
       "      <td>-0.010664</td>\n",
       "    </tr>\n",
       "    <tr>\n",
       "      <th>...</th>\n",
       "      <td>...</td>\n",
       "      <td>...</td>\n",
       "      <td>...</td>\n",
       "      <td>...</td>\n",
       "    </tr>\n",
       "    <tr>\n",
       "      <th>2021-12-22</th>\n",
       "      <td>21.23</td>\n",
       "      <td>21.23</td>\n",
       "      <td>21.33</td>\n",
       "      <td>0.004710</td>\n",
       "    </tr>\n",
       "    <tr>\n",
       "      <th>2021-12-23</th>\n",
       "      <td>21.33</td>\n",
       "      <td>21.34</td>\n",
       "      <td>21.48</td>\n",
       "      <td>0.006560</td>\n",
       "    </tr>\n",
       "    <tr>\n",
       "      <th>2021-12-27</th>\n",
       "      <td>21.48</td>\n",
       "      <td>21.56</td>\n",
       "      <td>21.63</td>\n",
       "      <td>0.003247</td>\n",
       "    </tr>\n",
       "    <tr>\n",
       "      <th>2021-12-28</th>\n",
       "      <td>21.63</td>\n",
       "      <td>21.48</td>\n",
       "      <td>21.53</td>\n",
       "      <td>0.002328</td>\n",
       "    </tr>\n",
       "    <tr>\n",
       "      <th>2021-12-29</th>\n",
       "      <td>21.53</td>\n",
       "      <td>21.30</td>\n",
       "      <td>21.44</td>\n",
       "      <td>0.006573</td>\n",
       "    </tr>\n",
       "  </tbody>\n",
       "</table>\n",
       "<p>246 rows × 4 columns</p>\n",
       "</div>"
      ],
      "text/plain": [
       "             open  close  next_open  overnight\n",
       "date                                          \n",
       "2021-01-04  31.98  30.90      30.73  -0.005502\n",
       "2021-01-05  30.73  30.70      30.98   0.009121\n",
       "2021-01-06  30.98  31.55      31.65   0.003170\n",
       "2021-01-07  31.65  32.83      32.93   0.003046\n",
       "2021-01-08  32.93  32.82      32.47  -0.010664\n",
       "...           ...    ...        ...        ...\n",
       "2021-12-22  21.23  21.23      21.33   0.004710\n",
       "2021-12-23  21.33  21.34      21.48   0.006560\n",
       "2021-12-27  21.48  21.56      21.63   0.003247\n",
       "2021-12-28  21.63  21.48      21.53   0.002328\n",
       "2021-12-29  21.53  21.30      21.44   0.006573\n",
       "\n",
       "[246 rows x 4 columns]"
      ]
     },
     "execution_count": 97,
     "metadata": {},
     "output_type": "execute_result"
    }
   ],
   "source": [
    "df.to_parquet('')"
   ]
  }
 ],
 "metadata": {
  "kernelspec": {
   "display_name": "Python 3",
   "language": "python",
   "name": "python3"
  },
  "language_info": {
   "codemirror_mode": {
    "name": "ipython",
    "version": 3
   },
   "file_extension": ".py",
   "mimetype": "text/x-python",
   "name": "python",
   "nbconvert_exporter": "python",
   "pygments_lexer": "ipython3",
   "version": "3.7.4"
  }
 },
 "nbformat": 4,
 "nbformat_minor": 2
}
