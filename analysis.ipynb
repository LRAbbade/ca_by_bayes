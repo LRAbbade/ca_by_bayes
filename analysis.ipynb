{
 "cells": [
  {
   "cell_type": "code",
   "execution_count": 64,
   "metadata": {},
   "outputs": [],
   "source": [
    "import numpy as np\n",
    "import pandas as pd\n",
    "import plotly.express as px\n",
    "\n",
    "%matplotlib inline"
   ]
  },
  {
   "cell_type": "code",
   "execution_count": 49,
   "metadata": {},
   "outputs": [],
   "source": [
    "df = pd.read_parquet('data/itub_2021.parquet')\n",
    "divs_df = pd.read_parquet('data/itub_divs_2021.parquet')\n",
    "df = df.join(divs_df)\n",
    "df['has_div'] = df['value'].map(lambda v: not np.isnan(v))"
   ]
  },
  {
   "cell_type": "code",
   "execution_count": 50,
   "metadata": {},
   "outputs": [
    {
     "data": {
      "text/html": [
       "<div>\n",
       "<style scoped>\n",
       "    .dataframe tbody tr th:only-of-type {\n",
       "        vertical-align: middle;\n",
       "    }\n",
       "\n",
       "    .dataframe tbody tr th {\n",
       "        vertical-align: top;\n",
       "    }\n",
       "\n",
       "    .dataframe thead th {\n",
       "        text-align: right;\n",
       "    }\n",
       "</style>\n",
       "<table border=\"1\" class=\"dataframe\">\n",
       "  <thead>\n",
       "    <tr style=\"text-align: right;\">\n",
       "      <th></th>\n",
       "      <th>open</th>\n",
       "      <th>close</th>\n",
       "      <th>next_open</th>\n",
       "      <th>overnight</th>\n",
       "      <th>div_type</th>\n",
       "      <th>value</th>\n",
       "      <th>has_div</th>\n",
       "    </tr>\n",
       "  </thead>\n",
       "  <tbody>\n",
       "    <tr>\n",
       "      <th>2021-01-22</th>\n",
       "      <td>29.25</td>\n",
       "      <td>29.27</td>\n",
       "      <td>28.99</td>\n",
       "      <td>-0.009566</td>\n",
       "      <td>JCP</td>\n",
       "      <td>0.050160</td>\n",
       "      <td>True</td>\n",
       "    </tr>\n",
       "    <tr>\n",
       "      <th>2021-01-29</th>\n",
       "      <td>29.22</td>\n",
       "      <td>28.34</td>\n",
       "      <td>29.00</td>\n",
       "      <td>0.023289</td>\n",
       "      <td>Dividendo</td>\n",
       "      <td>0.015000</td>\n",
       "      <td>True</td>\n",
       "    </tr>\n",
       "    <tr>\n",
       "      <th>2021-02-25</th>\n",
       "      <td>26.90</td>\n",
       "      <td>26.08</td>\n",
       "      <td>26.20</td>\n",
       "      <td>0.004601</td>\n",
       "      <td>Dividendo</td>\n",
       "      <td>0.096407</td>\n",
       "      <td>True</td>\n",
       "    </tr>\n",
       "    <tr>\n",
       "      <th>2021-02-25</th>\n",
       "      <td>26.90</td>\n",
       "      <td>26.08</td>\n",
       "      <td>26.20</td>\n",
       "      <td>0.004601</td>\n",
       "      <td>JCP</td>\n",
       "      <td>0.050580</td>\n",
       "      <td>True</td>\n",
       "    </tr>\n",
       "    <tr>\n",
       "      <th>2021-02-26</th>\n",
       "      <td>26.20</td>\n",
       "      <td>25.55</td>\n",
       "      <td>25.90</td>\n",
       "      <td>0.013699</td>\n",
       "      <td>Dividendo</td>\n",
       "      <td>0.015000</td>\n",
       "      <td>True</td>\n",
       "    </tr>\n",
       "    <tr>\n",
       "      <th>2021-03-25</th>\n",
       "      <td>27.00</td>\n",
       "      <td>27.65</td>\n",
       "      <td>27.52</td>\n",
       "      <td>-0.004702</td>\n",
       "      <td>JCP</td>\n",
       "      <td>0.050640</td>\n",
       "      <td>True</td>\n",
       "    </tr>\n",
       "    <tr>\n",
       "      <th>2021-03-31</th>\n",
       "      <td>28.31</td>\n",
       "      <td>27.97</td>\n",
       "      <td>28.13</td>\n",
       "      <td>0.005720</td>\n",
       "      <td>Dividendo</td>\n",
       "      <td>0.015000</td>\n",
       "      <td>True</td>\n",
       "    </tr>\n",
       "    <tr>\n",
       "      <th>2021-04-27</th>\n",
       "      <td>27.47</td>\n",
       "      <td>27.09</td>\n",
       "      <td>27.52</td>\n",
       "      <td>0.015873</td>\n",
       "      <td>JCP</td>\n",
       "      <td>0.056480</td>\n",
       "      <td>True</td>\n",
       "    </tr>\n",
       "    <tr>\n",
       "      <th>2021-04-30</th>\n",
       "      <td>27.18</td>\n",
       "      <td>27.53</td>\n",
       "      <td>27.70</td>\n",
       "      <td>0.006175</td>\n",
       "      <td>Dividendo</td>\n",
       "      <td>0.015000</td>\n",
       "      <td>True</td>\n",
       "    </tr>\n",
       "    <tr>\n",
       "      <th>2021-05-24</th>\n",
       "      <td>29.52</td>\n",
       "      <td>29.35</td>\n",
       "      <td>29.32</td>\n",
       "      <td>-0.001022</td>\n",
       "      <td>JCP</td>\n",
       "      <td>0.048740</td>\n",
       "      <td>True</td>\n",
       "    </tr>\n",
       "    <tr>\n",
       "      <th>2021-05-31</th>\n",
       "      <td>29.67</td>\n",
       "      <td>29.54</td>\n",
       "      <td>29.84</td>\n",
       "      <td>0.010156</td>\n",
       "      <td>Dividendo</td>\n",
       "      <td>0.015000</td>\n",
       "      <td>True</td>\n",
       "    </tr>\n",
       "    <tr>\n",
       "      <th>2021-06-30</th>\n",
       "      <td>30.00</td>\n",
       "      <td>29.80</td>\n",
       "      <td>29.79</td>\n",
       "      <td>-0.000336</td>\n",
       "      <td>Dividendo</td>\n",
       "      <td>0.015000</td>\n",
       "      <td>True</td>\n",
       "    </tr>\n",
       "    <tr>\n",
       "      <th>2021-07-30</th>\n",
       "      <td>30.40</td>\n",
       "      <td>30.30</td>\n",
       "      <td>30.80</td>\n",
       "      <td>0.016502</td>\n",
       "      <td>Dividendo</td>\n",
       "      <td>0.015000</td>\n",
       "      <td>True</td>\n",
       "    </tr>\n",
       "    <tr>\n",
       "      <th>2021-08-13</th>\n",
       "      <td>30.42</td>\n",
       "      <td>30.78</td>\n",
       "      <td>30.66</td>\n",
       "      <td>-0.003899</td>\n",
       "      <td>JCP</td>\n",
       "      <td>0.103840</td>\n",
       "      <td>True</td>\n",
       "    </tr>\n",
       "    <tr>\n",
       "      <th>2021-08-31</th>\n",
       "      <td>30.63</td>\n",
       "      <td>30.94</td>\n",
       "      <td>31.06</td>\n",
       "      <td>0.003878</td>\n",
       "      <td>Dividendo</td>\n",
       "      <td>0.015000</td>\n",
       "      <td>True</td>\n",
       "    </tr>\n",
       "    <tr>\n",
       "      <th>2021-09-30</th>\n",
       "      <td>29.09</td>\n",
       "      <td>28.93</td>\n",
       "      <td>29.12</td>\n",
       "      <td>0.006568</td>\n",
       "      <td>Dividendo</td>\n",
       "      <td>0.015000</td>\n",
       "      <td>True</td>\n",
       "    </tr>\n",
       "    <tr>\n",
       "      <th>2021-10-29</th>\n",
       "      <td>23.94</td>\n",
       "      <td>23.31</td>\n",
       "      <td>23.71</td>\n",
       "      <td>0.017160</td>\n",
       "      <td>JCP</td>\n",
       "      <td>0.017650</td>\n",
       "      <td>True</td>\n",
       "    </tr>\n",
       "    <tr>\n",
       "      <th>2021-11-19</th>\n",
       "      <td>22.40</td>\n",
       "      <td>22.28</td>\n",
       "      <td>22.01</td>\n",
       "      <td>-0.012118</td>\n",
       "      <td>JCP</td>\n",
       "      <td>0.264551</td>\n",
       "      <td>True</td>\n",
       "    </tr>\n",
       "    <tr>\n",
       "      <th>2021-11-30</th>\n",
       "      <td>22.68</td>\n",
       "      <td>22.38</td>\n",
       "      <td>22.56</td>\n",
       "      <td>0.008043</td>\n",
       "      <td>JCP</td>\n",
       "      <td>0.017650</td>\n",
       "      <td>True</td>\n",
       "    </tr>\n",
       "  </tbody>\n",
       "</table>\n",
       "</div>"
      ],
      "text/plain": [
       "             open  close  next_open  overnight   div_type     value  has_div\n",
       "2021-01-22  29.25  29.27      28.99  -0.009566        JCP  0.050160     True\n",
       "2021-01-29  29.22  28.34      29.00   0.023289  Dividendo  0.015000     True\n",
       "2021-02-25  26.90  26.08      26.20   0.004601  Dividendo  0.096407     True\n",
       "2021-02-25  26.90  26.08      26.20   0.004601        JCP  0.050580     True\n",
       "2021-02-26  26.20  25.55      25.90   0.013699  Dividendo  0.015000     True\n",
       "2021-03-25  27.00  27.65      27.52  -0.004702        JCP  0.050640     True\n",
       "2021-03-31  28.31  27.97      28.13   0.005720  Dividendo  0.015000     True\n",
       "2021-04-27  27.47  27.09      27.52   0.015873        JCP  0.056480     True\n",
       "2021-04-30  27.18  27.53      27.70   0.006175  Dividendo  0.015000     True\n",
       "2021-05-24  29.52  29.35      29.32  -0.001022        JCP  0.048740     True\n",
       "2021-05-31  29.67  29.54      29.84   0.010156  Dividendo  0.015000     True\n",
       "2021-06-30  30.00  29.80      29.79  -0.000336  Dividendo  0.015000     True\n",
       "2021-07-30  30.40  30.30      30.80   0.016502  Dividendo  0.015000     True\n",
       "2021-08-13  30.42  30.78      30.66  -0.003899        JCP  0.103840     True\n",
       "2021-08-31  30.63  30.94      31.06   0.003878  Dividendo  0.015000     True\n",
       "2021-09-30  29.09  28.93      29.12   0.006568  Dividendo  0.015000     True\n",
       "2021-10-29  23.94  23.31      23.71   0.017160        JCP  0.017650     True\n",
       "2021-11-19  22.40  22.28      22.01  -0.012118        JCP  0.264551     True\n",
       "2021-11-30  22.68  22.38      22.56   0.008043        JCP  0.017650     True"
      ]
     },
     "execution_count": 50,
     "metadata": {},
     "output_type": "execute_result"
    }
   ],
   "source": [
    "df[df['has_div']]"
   ]
  },
  {
   "cell_type": "markdown",
   "metadata": {},
   "source": [
    "I can already see this won't work because many of the days with divs actually have positive returns, which shouldn't be the case. I can maybe make it work for identifying very large divs, I'll try vale later, for now I'll just run it to the end and see the results"
   ]
  },
  {
   "cell_type": "markdown",
   "metadata": {},
   "source": [
    "Intuition:<br>\n",
    "event = there was a dividend<br>\n",
    "known = overnight return < -0.01<br>\n",
    "\n",
    "P(event | known) = P(known | event) * P(event) / P(known)"
   ]
  },
  {
   "cell_type": "markdown",
   "metadata": {},
   "source": [
    "Using -0.01 as a threshold for now, I'll try to optimize this later"
   ]
  },
  {
   "cell_type": "markdown",
   "metadata": {},
   "source": [
    "Obs.: I'll be calling both JCP and Dividendo as dividend from here on, for this test it's fine"
   ]
  },
  {
   "cell_type": "code",
   "execution_count": 51,
   "metadata": {},
   "outputs": [
    {
     "name": "stdout",
     "output_type": "stream",
     "text": [
      "probability of overnight return < -0.01 when there's a dividend = 5.26%\n",
      "probability there was a dividend = 7.69%\n",
      "probability of overnight return < -0.01 = 10.1%\n"
     ]
    }
   ],
   "source": [
    "threshold = -0.01\n",
    "prob_neg_ret_by_div = len(df[(df['overnight'] < threshold) & (df['has_div'])]) / \\\n",
    "                      len(df[df['has_div']])\n",
    "prob_div = len(df[df['has_div']]) / len(df)\n",
    "prob_neg_ret = len(df[df['overnight'] < threshold]) / len(df)\n",
    "\n",
    "print(f'probability of overnight return < -0.01 when there\\'s a dividend = {100 * prob_neg_ret_by_div:.3}%')\n",
    "print(f'probability there was a dividend = {100 * prob_div:.3}%')\n",
    "print(f'probability of overnight return < -0.01 = {100 * prob_neg_ret:.3}%')"
   ]
  },
  {
   "cell_type": "markdown",
   "metadata": {},
   "source": [
    "probability of overnight return < -0.01 is itself larger than when there's a div, which already defeats the premise"
   ]
  },
  {
   "cell_type": "code",
   "execution_count": 52,
   "metadata": {},
   "outputs": [
    {
     "name": "stdout",
     "output_type": "stream",
     "text": [
      "probability there was a dividend given the overnight return was < -0.01 = 4.0%\n"
     ]
    }
   ],
   "source": [
    "prob = prob_neg_ret_by_div * prob_div / prob_neg_ret\n",
    "print(f'probability there was a dividend given the overnight return was < -0.01 = {100 * prob:.3}%')"
   ]
  },
  {
   "cell_type": "markdown",
   "metadata": {},
   "source": [
    "---"
   ]
  },
  {
   "cell_type": "markdown",
   "metadata": {},
   "source": [
    "### Test vale3"
   ]
  },
  {
   "cell_type": "code",
   "execution_count": 53,
   "metadata": {},
   "outputs": [],
   "source": [
    "df = pd.read_parquet('data/vale.parquet')\n",
    "divs_df = pd.read_parquet('data/vale_divs.parquet')\n",
    "df = df.join(divs_df)\n",
    "df['has_div'] = df['value'].map(lambda v: not np.isnan(v))"
   ]
  },
  {
   "cell_type": "code",
   "execution_count": 54,
   "metadata": {},
   "outputs": [
    {
     "data": {
      "text/html": [
       "<div>\n",
       "<style scoped>\n",
       "    .dataframe tbody tr th:only-of-type {\n",
       "        vertical-align: middle;\n",
       "    }\n",
       "\n",
       "    .dataframe tbody tr th {\n",
       "        vertical-align: top;\n",
       "    }\n",
       "\n",
       "    .dataframe thead th {\n",
       "        text-align: right;\n",
       "    }\n",
       "</style>\n",
       "<table border=\"1\" class=\"dataframe\">\n",
       "  <thead>\n",
       "    <tr style=\"text-align: right;\">\n",
       "      <th></th>\n",
       "      <th>open</th>\n",
       "      <th>close</th>\n",
       "      <th>next_open</th>\n",
       "      <th>overnight</th>\n",
       "      <th>div_type</th>\n",
       "      <th>value</th>\n",
       "      <th>has_div</th>\n",
       "    </tr>\n",
       "  </thead>\n",
       "  <tbody>\n",
       "    <tr>\n",
       "      <th>2016-01-29</th>\n",
       "      <td>9.32</td>\n",
       "      <td>9.72</td>\n",
       "      <td>9.63</td>\n",
       "      <td>-0.009259</td>\n",
       "      <td>Dividendo</td>\n",
       "      <td>0.010000</td>\n",
       "      <td>True</td>\n",
       "    </tr>\n",
       "    <tr>\n",
       "      <th>2016-02-18</th>\n",
       "      <td>11.92</td>\n",
       "      <td>11.51</td>\n",
       "      <td>11.41</td>\n",
       "      <td>-0.008688</td>\n",
       "      <td>Dividendo</td>\n",
       "      <td>0.132000</td>\n",
       "      <td>True</td>\n",
       "    </tr>\n",
       "    <tr>\n",
       "      <th>2016-02-18</th>\n",
       "      <td>11.92</td>\n",
       "      <td>11.51</td>\n",
       "      <td>11.41</td>\n",
       "      <td>-0.008688</td>\n",
       "      <td>JCP</td>\n",
       "      <td>0.304267</td>\n",
       "      <td>True</td>\n",
       "    </tr>\n",
       "    <tr>\n",
       "      <th>2016-02-29</th>\n",
       "      <td>11.23</td>\n",
       "      <td>11.81</td>\n",
       "      <td>12.20</td>\n",
       "      <td>0.033023</td>\n",
       "      <td>Dividendo</td>\n",
       "      <td>0.010000</td>\n",
       "      <td>True</td>\n",
       "    </tr>\n",
       "    <tr>\n",
       "      <th>2016-03-31</th>\n",
       "      <td>15.20</td>\n",
       "      <td>15.15</td>\n",
       "      <td>14.89</td>\n",
       "      <td>-0.017162</td>\n",
       "      <td>Dividendo</td>\n",
       "      <td>0.010000</td>\n",
       "      <td>True</td>\n",
       "    </tr>\n",
       "    <tr>\n",
       "      <th>...</th>\n",
       "      <td>...</td>\n",
       "      <td>...</td>\n",
       "      <td>...</td>\n",
       "      <td>...</td>\n",
       "      <td>...</td>\n",
       "      <td>...</td>\n",
       "      <td>...</td>\n",
       "    </tr>\n",
       "    <tr>\n",
       "      <th>2021-08-31</th>\n",
       "      <td>99.00</td>\n",
       "      <td>98.68</td>\n",
       "      <td>97.36</td>\n",
       "      <td>-0.013377</td>\n",
       "      <td>Dividendo</td>\n",
       "      <td>0.015000</td>\n",
       "      <td>True</td>\n",
       "    </tr>\n",
       "    <tr>\n",
       "      <th>2021-09-30</th>\n",
       "      <td>77.40</td>\n",
       "      <td>76.24</td>\n",
       "      <td>76.75</td>\n",
       "      <td>0.006689</td>\n",
       "      <td>Dividendo</td>\n",
       "      <td>0.015000</td>\n",
       "      <td>True</td>\n",
       "    </tr>\n",
       "    <tr>\n",
       "      <th>2021-10-29</th>\n",
       "      <td>73.02</td>\n",
       "      <td>71.61</td>\n",
       "      <td>72.00</td>\n",
       "      <td>0.005446</td>\n",
       "      <td>JCP</td>\n",
       "      <td>0.017650</td>\n",
       "      <td>True</td>\n",
       "    </tr>\n",
       "    <tr>\n",
       "      <th>2021-11-19</th>\n",
       "      <td>63.27</td>\n",
       "      <td>64.03</td>\n",
       "      <td>65.55</td>\n",
       "      <td>0.023739</td>\n",
       "      <td>JCP</td>\n",
       "      <td>0.264551</td>\n",
       "      <td>True</td>\n",
       "    </tr>\n",
       "    <tr>\n",
       "      <th>2021-11-30</th>\n",
       "      <td>69.00</td>\n",
       "      <td>69.95</td>\n",
       "      <td>71.30</td>\n",
       "      <td>0.019299</td>\n",
       "      <td>JCP</td>\n",
       "      <td>0.017650</td>\n",
       "      <td>True</td>\n",
       "    </tr>\n",
       "  </tbody>\n",
       "</table>\n",
       "<p>93 rows × 7 columns</p>\n",
       "</div>"
      ],
      "text/plain": [
       "             open  close  next_open  overnight   div_type     value  has_div\n",
       "2016-01-29   9.32   9.72       9.63  -0.009259  Dividendo  0.010000     True\n",
       "2016-02-18  11.92  11.51      11.41  -0.008688  Dividendo  0.132000     True\n",
       "2016-02-18  11.92  11.51      11.41  -0.008688        JCP  0.304267     True\n",
       "2016-02-29  11.23  11.81      12.20   0.033023  Dividendo  0.010000     True\n",
       "2016-03-31  15.20  15.15      14.89  -0.017162  Dividendo  0.010000     True\n",
       "...           ...    ...        ...        ...        ...       ...      ...\n",
       "2021-08-31  99.00  98.68      97.36  -0.013377  Dividendo  0.015000     True\n",
       "2021-09-30  77.40  76.24      76.75   0.006689  Dividendo  0.015000     True\n",
       "2021-10-29  73.02  71.61      72.00   0.005446        JCP  0.017650     True\n",
       "2021-11-19  63.27  64.03      65.55   0.023739        JCP  0.264551     True\n",
       "2021-11-30  69.00  69.95      71.30   0.019299        JCP  0.017650     True\n",
       "\n",
       "[93 rows x 7 columns]"
      ]
     },
     "execution_count": 54,
     "metadata": {},
     "output_type": "execute_result"
    }
   ],
   "source": [
    "df[df['has_div']]"
   ]
  },
  {
   "cell_type": "code",
   "execution_count": 55,
   "metadata": {},
   "outputs": [
    {
     "name": "stdout",
     "output_type": "stream",
     "text": [
      "probability of overnight return < -0.01 when there's a dividend = 14.0%\n",
      "probability there was a dividend = 6.25%\n",
      "probability of overnight return < -0.01 = 15.2%\n",
      "probability there was a dividend given the overnight return was < -0.01 = 5.73%\n"
     ]
    }
   ],
   "source": [
    "threshold = -0.01\n",
    "prob_neg_ret_by_div = len(df[(df['overnight'] < threshold) & (df['has_div'])]) / \\\n",
    "                      len(df[df['has_div']])\n",
    "prob_div = len(df[df['has_div']]) / len(df)\n",
    "prob_neg_ret = len(df[df['overnight'] < threshold]) / len(df)\n",
    "\n",
    "print(f'probability of overnight return < -0.01 when there\\'s a dividend = {100 * prob_neg_ret_by_div:.3}%')\n",
    "print(f'probability there was a dividend = {100 * prob_div:.3}%')\n",
    "print(f'probability of overnight return < -0.01 = {100 * prob_neg_ret:.3}%')\n",
    "\n",
    "prob = prob_neg_ret_by_div * prob_div / prob_neg_ret\n",
    "print(f'probability there was a dividend given the overnight return was < -0.01 = {100 * prob:.3}%')"
   ]
  },
  {
   "cell_type": "markdown",
   "metadata": {},
   "source": [
    "still not great, I'll plot the probs by threshold"
   ]
  },
  {
   "cell_type": "code",
   "execution_count": 56,
   "metadata": {},
   "outputs": [],
   "source": [
    "thresholds_list = np.linspace(0, -0.1, 101)"
   ]
  },
  {
   "cell_type": "code",
   "execution_count": 59,
   "metadata": {},
   "outputs": [],
   "source": [
    "def calc_prob(df, threshold):\n",
    "    prob_neg_ret_by_div = len(df[(df['overnight'] < threshold) & (df['has_div'])]) / \\\n",
    "                          len(df[df['has_div']])\n",
    "    prob_div = len(df[df['has_div']]) / len(df)\n",
    "    prob_neg_ret = len(df[df['overnight'] < threshold]) / len(df)\n",
    "    return prob_neg_ret_by_div * prob_div / prob_neg_ret"
   ]
  },
  {
   "cell_type": "code",
   "execution_count": 68,
   "metadata": {},
   "outputs": [],
   "source": [
    "y = [calc_prob(df, t) for t in thresholds_list]"
   ]
  },
  {
   "cell_type": "code",
   "execution_count": 73,
   "metadata": {},
   "outputs": [
    {
     "data": {
      "application/vnd.plotly.v1+json": {
       "config": {
        "plotlyServerURL": "https://plot.ly"
       },
       "data": [
        {
         "hovertemplate": "return threshold=%{x}<br>probability there was a dividend=%{y}<extra></extra>",
         "legendgroup": "",
         "marker": {
          "color": "#636efa",
          "symbol": "circle"
         },
         "mode": "markers",
         "name": "",
         "orientation": "v",
         "showlegend": false,
         "type": "scatter",
         "x": [
          0,
          -0.001,
          -0.002,
          -0.003,
          -0.004,
          -0.005,
          -0.006,
          -0.007,
          -0.008,
          -0.009000000000000001,
          -0.01,
          -0.011,
          -0.012,
          -0.013000000000000001,
          -0.014,
          -0.015,
          -0.016,
          -0.017,
          -0.018000000000000002,
          -0.019,
          -0.02,
          -0.021,
          -0.022,
          -0.023,
          -0.024,
          -0.025,
          -0.026000000000000002,
          -0.027,
          -0.028,
          -0.029,
          -0.03,
          -0.031,
          -0.032,
          -0.033,
          -0.034,
          -0.035,
          -0.036000000000000004,
          -0.037,
          -0.038,
          -0.039,
          -0.04,
          -0.041,
          -0.042,
          -0.043000000000000003,
          -0.044,
          -0.045,
          -0.046,
          -0.047,
          -0.048,
          -0.049,
          -0.05,
          -0.051000000000000004,
          -0.052000000000000005,
          -0.053,
          -0.054,
          -0.055,
          -0.056,
          -0.057,
          -0.058,
          -0.059000000000000004,
          -0.06,
          -0.061,
          -0.062,
          -0.063,
          -0.064,
          -0.065,
          -0.066,
          -0.067,
          -0.068,
          -0.069,
          -0.07,
          -0.07100000000000001,
          -0.07200000000000001,
          -0.073,
          -0.074,
          -0.075,
          -0.076,
          -0.077,
          -0.078,
          -0.079,
          -0.08,
          -0.081,
          -0.082,
          -0.083,
          -0.084,
          -0.085,
          -0.08600000000000001,
          -0.08700000000000001,
          -0.088,
          -0.089,
          -0.09,
          -0.091,
          -0.092,
          -0.093,
          -0.094,
          -0.095,
          -0.096,
          -0.097,
          -0.098,
          -0.099,
          -0.1
         ],
         "xaxis": "x",
         "y": [
          0.04591836734693878,
          0.047445255474452545,
          0.047619047619047616,
          0.04439746300211417,
          0.046189376443418015,
          0.04834605597964377,
          0.05084745762711864,
          0.05678233438485804,
          0.06428571428571428,
          0.06324110671936758,
          0.057268722466960346,
          0.05853658536585365,
          0.06179775280898876,
          0.06875,
          0.06756756756756757,
          0.07086614173228346,
          0.06896551724137931,
          0.06796116504854369,
          0.061224489795918366,
          0.07058823529411765,
          0.0625,
          0.0684931506849315,
          0.07692307692307691,
          0.05357142857142857,
          0.0588235294117647,
          0.06521739130434782,
          0.047619047619047616,
          0.025,
          0.025,
          0.025,
          0.026315789473684213,
          0.02777777777777778,
          0.02857142857142857,
          0,
          0,
          0,
          0,
          0,
          0,
          0,
          0,
          0,
          0,
          0,
          0,
          0,
          0,
          0,
          0,
          0,
          0,
          0,
          0,
          0,
          0,
          0,
          0,
          0,
          0,
          0,
          0,
          0,
          0,
          0,
          0,
          0,
          0,
          0,
          0,
          0,
          0,
          0,
          0,
          0,
          0,
          0,
          0,
          0,
          0,
          0,
          0,
          0,
          0,
          0,
          0,
          0,
          0,
          0,
          0,
          0,
          0,
          0,
          0,
          0,
          0,
          0,
          0,
          0,
          0,
          0,
          0
         ],
         "yaxis": "y"
        }
       ],
       "layout": {
        "legend": {
         "tracegroupgap": 0
        },
        "template": {
         "data": {
          "bar": [
           {
            "error_x": {
             "color": "#2a3f5f"
            },
            "error_y": {
             "color": "#2a3f5f"
            },
            "marker": {
             "line": {
              "color": "#E5ECF6",
              "width": 0.5
             }
            },
            "type": "bar"
           }
          ],
          "barpolar": [
           {
            "marker": {
             "line": {
              "color": "#E5ECF6",
              "width": 0.5
             }
            },
            "type": "barpolar"
           }
          ],
          "carpet": [
           {
            "aaxis": {
             "endlinecolor": "#2a3f5f",
             "gridcolor": "white",
             "linecolor": "white",
             "minorgridcolor": "white",
             "startlinecolor": "#2a3f5f"
            },
            "baxis": {
             "endlinecolor": "#2a3f5f",
             "gridcolor": "white",
             "linecolor": "white",
             "minorgridcolor": "white",
             "startlinecolor": "#2a3f5f"
            },
            "type": "carpet"
           }
          ],
          "choropleth": [
           {
            "colorbar": {
             "outlinewidth": 0,
             "ticks": ""
            },
            "type": "choropleth"
           }
          ],
          "contour": [
           {
            "colorbar": {
             "outlinewidth": 0,
             "ticks": ""
            },
            "colorscale": [
             [
              0,
              "#0d0887"
             ],
             [
              0.1111111111111111,
              "#46039f"
             ],
             [
              0.2222222222222222,
              "#7201a8"
             ],
             [
              0.3333333333333333,
              "#9c179e"
             ],
             [
              0.4444444444444444,
              "#bd3786"
             ],
             [
              0.5555555555555556,
              "#d8576b"
             ],
             [
              0.6666666666666666,
              "#ed7953"
             ],
             [
              0.7777777777777778,
              "#fb9f3a"
             ],
             [
              0.8888888888888888,
              "#fdca26"
             ],
             [
              1,
              "#f0f921"
             ]
            ],
            "type": "contour"
           }
          ],
          "contourcarpet": [
           {
            "colorbar": {
             "outlinewidth": 0,
             "ticks": ""
            },
            "type": "contourcarpet"
           }
          ],
          "heatmap": [
           {
            "colorbar": {
             "outlinewidth": 0,
             "ticks": ""
            },
            "colorscale": [
             [
              0,
              "#0d0887"
             ],
             [
              0.1111111111111111,
              "#46039f"
             ],
             [
              0.2222222222222222,
              "#7201a8"
             ],
             [
              0.3333333333333333,
              "#9c179e"
             ],
             [
              0.4444444444444444,
              "#bd3786"
             ],
             [
              0.5555555555555556,
              "#d8576b"
             ],
             [
              0.6666666666666666,
              "#ed7953"
             ],
             [
              0.7777777777777778,
              "#fb9f3a"
             ],
             [
              0.8888888888888888,
              "#fdca26"
             ],
             [
              1,
              "#f0f921"
             ]
            ],
            "type": "heatmap"
           }
          ],
          "heatmapgl": [
           {
            "colorbar": {
             "outlinewidth": 0,
             "ticks": ""
            },
            "colorscale": [
             [
              0,
              "#0d0887"
             ],
             [
              0.1111111111111111,
              "#46039f"
             ],
             [
              0.2222222222222222,
              "#7201a8"
             ],
             [
              0.3333333333333333,
              "#9c179e"
             ],
             [
              0.4444444444444444,
              "#bd3786"
             ],
             [
              0.5555555555555556,
              "#d8576b"
             ],
             [
              0.6666666666666666,
              "#ed7953"
             ],
             [
              0.7777777777777778,
              "#fb9f3a"
             ],
             [
              0.8888888888888888,
              "#fdca26"
             ],
             [
              1,
              "#f0f921"
             ]
            ],
            "type": "heatmapgl"
           }
          ],
          "histogram": [
           {
            "marker": {
             "colorbar": {
              "outlinewidth": 0,
              "ticks": ""
             }
            },
            "type": "histogram"
           }
          ],
          "histogram2d": [
           {
            "colorbar": {
             "outlinewidth": 0,
             "ticks": ""
            },
            "colorscale": [
             [
              0,
              "#0d0887"
             ],
             [
              0.1111111111111111,
              "#46039f"
             ],
             [
              0.2222222222222222,
              "#7201a8"
             ],
             [
              0.3333333333333333,
              "#9c179e"
             ],
             [
              0.4444444444444444,
              "#bd3786"
             ],
             [
              0.5555555555555556,
              "#d8576b"
             ],
             [
              0.6666666666666666,
              "#ed7953"
             ],
             [
              0.7777777777777778,
              "#fb9f3a"
             ],
             [
              0.8888888888888888,
              "#fdca26"
             ],
             [
              1,
              "#f0f921"
             ]
            ],
            "type": "histogram2d"
           }
          ],
          "histogram2dcontour": [
           {
            "colorbar": {
             "outlinewidth": 0,
             "ticks": ""
            },
            "colorscale": [
             [
              0,
              "#0d0887"
             ],
             [
              0.1111111111111111,
              "#46039f"
             ],
             [
              0.2222222222222222,
              "#7201a8"
             ],
             [
              0.3333333333333333,
              "#9c179e"
             ],
             [
              0.4444444444444444,
              "#bd3786"
             ],
             [
              0.5555555555555556,
              "#d8576b"
             ],
             [
              0.6666666666666666,
              "#ed7953"
             ],
             [
              0.7777777777777778,
              "#fb9f3a"
             ],
             [
              0.8888888888888888,
              "#fdca26"
             ],
             [
              1,
              "#f0f921"
             ]
            ],
            "type": "histogram2dcontour"
           }
          ],
          "mesh3d": [
           {
            "colorbar": {
             "outlinewidth": 0,
             "ticks": ""
            },
            "type": "mesh3d"
           }
          ],
          "parcoords": [
           {
            "line": {
             "colorbar": {
              "outlinewidth": 0,
              "ticks": ""
             }
            },
            "type": "parcoords"
           }
          ],
          "pie": [
           {
            "automargin": true,
            "type": "pie"
           }
          ],
          "scatter": [
           {
            "marker": {
             "colorbar": {
              "outlinewidth": 0,
              "ticks": ""
             }
            },
            "type": "scatter"
           }
          ],
          "scatter3d": [
           {
            "line": {
             "colorbar": {
              "outlinewidth": 0,
              "ticks": ""
             }
            },
            "marker": {
             "colorbar": {
              "outlinewidth": 0,
              "ticks": ""
             }
            },
            "type": "scatter3d"
           }
          ],
          "scattercarpet": [
           {
            "marker": {
             "colorbar": {
              "outlinewidth": 0,
              "ticks": ""
             }
            },
            "type": "scattercarpet"
           }
          ],
          "scattergeo": [
           {
            "marker": {
             "colorbar": {
              "outlinewidth": 0,
              "ticks": ""
             }
            },
            "type": "scattergeo"
           }
          ],
          "scattergl": [
           {
            "marker": {
             "colorbar": {
              "outlinewidth": 0,
              "ticks": ""
             }
            },
            "type": "scattergl"
           }
          ],
          "scattermapbox": [
           {
            "marker": {
             "colorbar": {
              "outlinewidth": 0,
              "ticks": ""
             }
            },
            "type": "scattermapbox"
           }
          ],
          "scatterpolar": [
           {
            "marker": {
             "colorbar": {
              "outlinewidth": 0,
              "ticks": ""
             }
            },
            "type": "scatterpolar"
           }
          ],
          "scatterpolargl": [
           {
            "marker": {
             "colorbar": {
              "outlinewidth": 0,
              "ticks": ""
             }
            },
            "type": "scatterpolargl"
           }
          ],
          "scatterternary": [
           {
            "marker": {
             "colorbar": {
              "outlinewidth": 0,
              "ticks": ""
             }
            },
            "type": "scatterternary"
           }
          ],
          "surface": [
           {
            "colorbar": {
             "outlinewidth": 0,
             "ticks": ""
            },
            "colorscale": [
             [
              0,
              "#0d0887"
             ],
             [
              0.1111111111111111,
              "#46039f"
             ],
             [
              0.2222222222222222,
              "#7201a8"
             ],
             [
              0.3333333333333333,
              "#9c179e"
             ],
             [
              0.4444444444444444,
              "#bd3786"
             ],
             [
              0.5555555555555556,
              "#d8576b"
             ],
             [
              0.6666666666666666,
              "#ed7953"
             ],
             [
              0.7777777777777778,
              "#fb9f3a"
             ],
             [
              0.8888888888888888,
              "#fdca26"
             ],
             [
              1,
              "#f0f921"
             ]
            ],
            "type": "surface"
           }
          ],
          "table": [
           {
            "cells": {
             "fill": {
              "color": "#EBF0F8"
             },
             "line": {
              "color": "white"
             }
            },
            "header": {
             "fill": {
              "color": "#C8D4E3"
             },
             "line": {
              "color": "white"
             }
            },
            "type": "table"
           }
          ]
         },
         "layout": {
          "annotationdefaults": {
           "arrowcolor": "#2a3f5f",
           "arrowhead": 0,
           "arrowwidth": 1
          },
          "coloraxis": {
           "colorbar": {
            "outlinewidth": 0,
            "ticks": ""
           }
          },
          "colorscale": {
           "diverging": [
            [
             0,
             "#8e0152"
            ],
            [
             0.1,
             "#c51b7d"
            ],
            [
             0.2,
             "#de77ae"
            ],
            [
             0.3,
             "#f1b6da"
            ],
            [
             0.4,
             "#fde0ef"
            ],
            [
             0.5,
             "#f7f7f7"
            ],
            [
             0.6,
             "#e6f5d0"
            ],
            [
             0.7,
             "#b8e186"
            ],
            [
             0.8,
             "#7fbc41"
            ],
            [
             0.9,
             "#4d9221"
            ],
            [
             1,
             "#276419"
            ]
           ],
           "sequential": [
            [
             0,
             "#0d0887"
            ],
            [
             0.1111111111111111,
             "#46039f"
            ],
            [
             0.2222222222222222,
             "#7201a8"
            ],
            [
             0.3333333333333333,
             "#9c179e"
            ],
            [
             0.4444444444444444,
             "#bd3786"
            ],
            [
             0.5555555555555556,
             "#d8576b"
            ],
            [
             0.6666666666666666,
             "#ed7953"
            ],
            [
             0.7777777777777778,
             "#fb9f3a"
            ],
            [
             0.8888888888888888,
             "#fdca26"
            ],
            [
             1,
             "#f0f921"
            ]
           ],
           "sequentialminus": [
            [
             0,
             "#0d0887"
            ],
            [
             0.1111111111111111,
             "#46039f"
            ],
            [
             0.2222222222222222,
             "#7201a8"
            ],
            [
             0.3333333333333333,
             "#9c179e"
            ],
            [
             0.4444444444444444,
             "#bd3786"
            ],
            [
             0.5555555555555556,
             "#d8576b"
            ],
            [
             0.6666666666666666,
             "#ed7953"
            ],
            [
             0.7777777777777778,
             "#fb9f3a"
            ],
            [
             0.8888888888888888,
             "#fdca26"
            ],
            [
             1,
             "#f0f921"
            ]
           ]
          },
          "colorway": [
           "#636efa",
           "#EF553B",
           "#00cc96",
           "#ab63fa",
           "#FFA15A",
           "#19d3f3",
           "#FF6692",
           "#B6E880",
           "#FF97FF",
           "#FECB52"
          ],
          "font": {
           "color": "#2a3f5f"
          },
          "geo": {
           "bgcolor": "white",
           "lakecolor": "white",
           "landcolor": "#E5ECF6",
           "showlakes": true,
           "showland": true,
           "subunitcolor": "white"
          },
          "hoverlabel": {
           "align": "left"
          },
          "hovermode": "closest",
          "mapbox": {
           "style": "light"
          },
          "paper_bgcolor": "white",
          "plot_bgcolor": "#E5ECF6",
          "polar": {
           "angularaxis": {
            "gridcolor": "white",
            "linecolor": "white",
            "ticks": ""
           },
           "bgcolor": "#E5ECF6",
           "radialaxis": {
            "gridcolor": "white",
            "linecolor": "white",
            "ticks": ""
           }
          },
          "scene": {
           "xaxis": {
            "backgroundcolor": "#E5ECF6",
            "gridcolor": "white",
            "gridwidth": 2,
            "linecolor": "white",
            "showbackground": true,
            "ticks": "",
            "zerolinecolor": "white"
           },
           "yaxis": {
            "backgroundcolor": "#E5ECF6",
            "gridcolor": "white",
            "gridwidth": 2,
            "linecolor": "white",
            "showbackground": true,
            "ticks": "",
            "zerolinecolor": "white"
           },
           "zaxis": {
            "backgroundcolor": "#E5ECF6",
            "gridcolor": "white",
            "gridwidth": 2,
            "linecolor": "white",
            "showbackground": true,
            "ticks": "",
            "zerolinecolor": "white"
           }
          },
          "shapedefaults": {
           "line": {
            "color": "#2a3f5f"
           }
          },
          "ternary": {
           "aaxis": {
            "gridcolor": "white",
            "linecolor": "white",
            "ticks": ""
           },
           "baxis": {
            "gridcolor": "white",
            "linecolor": "white",
            "ticks": ""
           },
           "bgcolor": "#E5ECF6",
           "caxis": {
            "gridcolor": "white",
            "linecolor": "white",
            "ticks": ""
           }
          },
          "title": {
           "x": 0.05
          },
          "xaxis": {
           "automargin": true,
           "gridcolor": "white",
           "linecolor": "white",
           "ticks": "",
           "title": {
            "standoff": 15
           },
           "zerolinecolor": "white",
           "zerolinewidth": 2
          },
          "yaxis": {
           "automargin": true,
           "gridcolor": "white",
           "linecolor": "white",
           "ticks": "",
           "title": {
            "standoff": 15
           },
           "zerolinecolor": "white",
           "zerolinewidth": 2
          }
         }
        },
        "title": {
         "text": "P(dividend | overnight return < threshold)"
        },
        "xaxis": {
         "anchor": "y",
         "domain": [
          0,
          1
         ],
         "title": {
          "text": "return threshold"
         }
        },
        "yaxis": {
         "anchor": "x",
         "domain": [
          0,
          1
         ],
         "title": {
          "text": "probability there was a dividend"
         }
        }
       }
      },
      "text/html": [
       "<div>                            <div id=\"14005bcb-cd98-44cc-9963-e59c8216cb67\" class=\"plotly-graph-div\" style=\"height:525px; width:100%;\"></div>            <script type=\"text/javascript\">                require([\"plotly\"], function(Plotly) {                    window.PLOTLYENV=window.PLOTLYENV || {};                                    if (document.getElementById(\"14005bcb-cd98-44cc-9963-e59c8216cb67\")) {                    Plotly.newPlot(                        \"14005bcb-cd98-44cc-9963-e59c8216cb67\",                        [{\"hovertemplate\": \"return threshold=%{x}<br>probability there was a dividend=%{y}<extra></extra>\", \"legendgroup\": \"\", \"marker\": {\"color\": \"#636efa\", \"symbol\": \"circle\"}, \"mode\": \"markers\", \"name\": \"\", \"orientation\": \"v\", \"showlegend\": false, \"type\": \"scatter\", \"x\": [0.0, -0.001, -0.002, -0.003, -0.004, -0.005, -0.006, -0.007, -0.008, -0.009000000000000001, -0.01, -0.011, -0.012, -0.013000000000000001, -0.014, -0.015, -0.016, -0.017, -0.018000000000000002, -0.019, -0.02, -0.021, -0.022, -0.023, -0.024, -0.025, -0.026000000000000002, -0.027, -0.028, -0.029, -0.03, -0.031, -0.032, -0.033, -0.034, -0.035, -0.036000000000000004, -0.037, -0.038, -0.039, -0.04, -0.041, -0.042, -0.043000000000000003, -0.044, -0.045, -0.046, -0.047, -0.048, -0.049, -0.05, -0.051000000000000004, -0.052000000000000005, -0.053, -0.054, -0.055, -0.056, -0.057, -0.058, -0.059000000000000004, -0.06, -0.061, -0.062, -0.063, -0.064, -0.065, -0.066, -0.067, -0.068, -0.069, -0.07, -0.07100000000000001, -0.07200000000000001, -0.073, -0.074, -0.075, -0.076, -0.077, -0.078, -0.079, -0.08, -0.081, -0.082, -0.083, -0.084, -0.085, -0.08600000000000001, -0.08700000000000001, -0.088, -0.089, -0.09, -0.091, -0.092, -0.093, -0.094, -0.095, -0.096, -0.097, -0.098, -0.099, -0.1], \"xaxis\": \"x\", \"y\": [0.04591836734693878, 0.047445255474452545, 0.047619047619047616, 0.04439746300211417, 0.046189376443418015, 0.04834605597964377, 0.05084745762711864, 0.05678233438485804, 0.06428571428571428, 0.06324110671936758, 0.057268722466960346, 0.05853658536585365, 0.06179775280898876, 0.06875, 0.06756756756756757, 0.07086614173228346, 0.06896551724137931, 0.06796116504854369, 0.061224489795918366, 0.07058823529411765, 0.0625, 0.0684931506849315, 0.07692307692307691, 0.05357142857142857, 0.0588235294117647, 0.06521739130434782, 0.047619047619047616, 0.025, 0.025, 0.025, 0.026315789473684213, 0.02777777777777778, 0.02857142857142857, 0.0, 0.0, 0.0, 0.0, 0.0, 0.0, 0.0, 0.0, 0.0, 0.0, 0.0, 0.0, 0.0, 0.0, 0.0, 0.0, 0.0, 0.0, 0.0, 0.0, 0.0, 0.0, 0.0, 0.0, 0.0, 0.0, 0.0, 0.0, 0.0, 0.0, 0.0, 0.0, 0.0, 0.0, 0.0, 0.0, 0.0, 0.0, 0.0, 0.0, 0.0, 0.0, 0.0, 0.0, 0.0, 0.0, 0.0, 0.0, 0.0, 0.0, 0.0, 0.0, 0.0, 0.0, 0.0, 0.0, 0.0, 0.0, 0.0, 0.0, 0.0, 0.0, 0.0, 0.0, 0.0, 0.0, 0.0, 0.0], \"yaxis\": \"y\"}],                        {\"legend\": {\"tracegroupgap\": 0}, \"template\": {\"data\": {\"bar\": [{\"error_x\": {\"color\": \"#2a3f5f\"}, \"error_y\": {\"color\": \"#2a3f5f\"}, \"marker\": {\"line\": {\"color\": \"#E5ECF6\", \"width\": 0.5}}, \"type\": \"bar\"}], \"barpolar\": [{\"marker\": {\"line\": {\"color\": \"#E5ECF6\", \"width\": 0.5}}, \"type\": \"barpolar\"}], \"carpet\": [{\"aaxis\": {\"endlinecolor\": \"#2a3f5f\", \"gridcolor\": \"white\", \"linecolor\": \"white\", \"minorgridcolor\": \"white\", \"startlinecolor\": \"#2a3f5f\"}, \"baxis\": {\"endlinecolor\": \"#2a3f5f\", \"gridcolor\": \"white\", \"linecolor\": \"white\", \"minorgridcolor\": \"white\", \"startlinecolor\": \"#2a3f5f\"}, \"type\": \"carpet\"}], \"choropleth\": [{\"colorbar\": {\"outlinewidth\": 0, \"ticks\": \"\"}, \"type\": \"choropleth\"}], \"contour\": [{\"colorbar\": {\"outlinewidth\": 0, \"ticks\": \"\"}, \"colorscale\": [[0.0, \"#0d0887\"], [0.1111111111111111, \"#46039f\"], [0.2222222222222222, \"#7201a8\"], [0.3333333333333333, \"#9c179e\"], [0.4444444444444444, \"#bd3786\"], [0.5555555555555556, \"#d8576b\"], [0.6666666666666666, \"#ed7953\"], [0.7777777777777778, \"#fb9f3a\"], [0.8888888888888888, \"#fdca26\"], [1.0, \"#f0f921\"]], \"type\": \"contour\"}], \"contourcarpet\": [{\"colorbar\": {\"outlinewidth\": 0, \"ticks\": \"\"}, \"type\": \"contourcarpet\"}], \"heatmap\": [{\"colorbar\": {\"outlinewidth\": 0, \"ticks\": \"\"}, \"colorscale\": [[0.0, \"#0d0887\"], [0.1111111111111111, \"#46039f\"], [0.2222222222222222, \"#7201a8\"], [0.3333333333333333, \"#9c179e\"], [0.4444444444444444, \"#bd3786\"], [0.5555555555555556, \"#d8576b\"], [0.6666666666666666, \"#ed7953\"], [0.7777777777777778, \"#fb9f3a\"], [0.8888888888888888, \"#fdca26\"], [1.0, \"#f0f921\"]], \"type\": \"heatmap\"}], \"heatmapgl\": [{\"colorbar\": {\"outlinewidth\": 0, \"ticks\": \"\"}, \"colorscale\": [[0.0, \"#0d0887\"], [0.1111111111111111, \"#46039f\"], [0.2222222222222222, \"#7201a8\"], [0.3333333333333333, \"#9c179e\"], [0.4444444444444444, \"#bd3786\"], [0.5555555555555556, \"#d8576b\"], [0.6666666666666666, \"#ed7953\"], [0.7777777777777778, \"#fb9f3a\"], [0.8888888888888888, \"#fdca26\"], [1.0, \"#f0f921\"]], \"type\": \"heatmapgl\"}], \"histogram\": [{\"marker\": {\"colorbar\": {\"outlinewidth\": 0, \"ticks\": \"\"}}, \"type\": \"histogram\"}], \"histogram2d\": [{\"colorbar\": {\"outlinewidth\": 0, \"ticks\": \"\"}, \"colorscale\": [[0.0, \"#0d0887\"], [0.1111111111111111, \"#46039f\"], [0.2222222222222222, \"#7201a8\"], [0.3333333333333333, \"#9c179e\"], [0.4444444444444444, \"#bd3786\"], [0.5555555555555556, \"#d8576b\"], [0.6666666666666666, \"#ed7953\"], [0.7777777777777778, \"#fb9f3a\"], [0.8888888888888888, \"#fdca26\"], [1.0, \"#f0f921\"]], \"type\": \"histogram2d\"}], \"histogram2dcontour\": [{\"colorbar\": {\"outlinewidth\": 0, \"ticks\": \"\"}, \"colorscale\": [[0.0, \"#0d0887\"], [0.1111111111111111, \"#46039f\"], [0.2222222222222222, \"#7201a8\"], [0.3333333333333333, \"#9c179e\"], [0.4444444444444444, \"#bd3786\"], [0.5555555555555556, \"#d8576b\"], [0.6666666666666666, \"#ed7953\"], [0.7777777777777778, \"#fb9f3a\"], [0.8888888888888888, \"#fdca26\"], [1.0, \"#f0f921\"]], \"type\": \"histogram2dcontour\"}], \"mesh3d\": [{\"colorbar\": {\"outlinewidth\": 0, \"ticks\": \"\"}, \"type\": \"mesh3d\"}], \"parcoords\": [{\"line\": {\"colorbar\": {\"outlinewidth\": 0, \"ticks\": \"\"}}, \"type\": \"parcoords\"}], \"pie\": [{\"automargin\": true, \"type\": \"pie\"}], \"scatter\": [{\"marker\": {\"colorbar\": {\"outlinewidth\": 0, \"ticks\": \"\"}}, \"type\": \"scatter\"}], \"scatter3d\": [{\"line\": {\"colorbar\": {\"outlinewidth\": 0, \"ticks\": \"\"}}, \"marker\": {\"colorbar\": {\"outlinewidth\": 0, \"ticks\": \"\"}}, \"type\": \"scatter3d\"}], \"scattercarpet\": [{\"marker\": {\"colorbar\": {\"outlinewidth\": 0, \"ticks\": \"\"}}, \"type\": \"scattercarpet\"}], \"scattergeo\": [{\"marker\": {\"colorbar\": {\"outlinewidth\": 0, \"ticks\": \"\"}}, \"type\": \"scattergeo\"}], \"scattergl\": [{\"marker\": {\"colorbar\": {\"outlinewidth\": 0, \"ticks\": \"\"}}, \"type\": \"scattergl\"}], \"scattermapbox\": [{\"marker\": {\"colorbar\": {\"outlinewidth\": 0, \"ticks\": \"\"}}, \"type\": \"scattermapbox\"}], \"scatterpolar\": [{\"marker\": {\"colorbar\": {\"outlinewidth\": 0, \"ticks\": \"\"}}, \"type\": \"scatterpolar\"}], \"scatterpolargl\": [{\"marker\": {\"colorbar\": {\"outlinewidth\": 0, \"ticks\": \"\"}}, \"type\": \"scatterpolargl\"}], \"scatterternary\": [{\"marker\": {\"colorbar\": {\"outlinewidth\": 0, \"ticks\": \"\"}}, \"type\": \"scatterternary\"}], \"surface\": [{\"colorbar\": {\"outlinewidth\": 0, \"ticks\": \"\"}, \"colorscale\": [[0.0, \"#0d0887\"], [0.1111111111111111, \"#46039f\"], [0.2222222222222222, \"#7201a8\"], [0.3333333333333333, \"#9c179e\"], [0.4444444444444444, \"#bd3786\"], [0.5555555555555556, \"#d8576b\"], [0.6666666666666666, \"#ed7953\"], [0.7777777777777778, \"#fb9f3a\"], [0.8888888888888888, \"#fdca26\"], [1.0, \"#f0f921\"]], \"type\": \"surface\"}], \"table\": [{\"cells\": {\"fill\": {\"color\": \"#EBF0F8\"}, \"line\": {\"color\": \"white\"}}, \"header\": {\"fill\": {\"color\": \"#C8D4E3\"}, \"line\": {\"color\": \"white\"}}, \"type\": \"table\"}]}, \"layout\": {\"annotationdefaults\": {\"arrowcolor\": \"#2a3f5f\", \"arrowhead\": 0, \"arrowwidth\": 1}, \"coloraxis\": {\"colorbar\": {\"outlinewidth\": 0, \"ticks\": \"\"}}, \"colorscale\": {\"diverging\": [[0, \"#8e0152\"], [0.1, \"#c51b7d\"], [0.2, \"#de77ae\"], [0.3, \"#f1b6da\"], [0.4, \"#fde0ef\"], [0.5, \"#f7f7f7\"], [0.6, \"#e6f5d0\"], [0.7, \"#b8e186\"], [0.8, \"#7fbc41\"], [0.9, \"#4d9221\"], [1, \"#276419\"]], \"sequential\": [[0.0, \"#0d0887\"], [0.1111111111111111, \"#46039f\"], [0.2222222222222222, \"#7201a8\"], [0.3333333333333333, \"#9c179e\"], [0.4444444444444444, \"#bd3786\"], [0.5555555555555556, \"#d8576b\"], [0.6666666666666666, \"#ed7953\"], [0.7777777777777778, \"#fb9f3a\"], [0.8888888888888888, \"#fdca26\"], [1.0, \"#f0f921\"]], \"sequentialminus\": [[0.0, \"#0d0887\"], [0.1111111111111111, \"#46039f\"], [0.2222222222222222, \"#7201a8\"], [0.3333333333333333, \"#9c179e\"], [0.4444444444444444, \"#bd3786\"], [0.5555555555555556, \"#d8576b\"], [0.6666666666666666, \"#ed7953\"], [0.7777777777777778, \"#fb9f3a\"], [0.8888888888888888, \"#fdca26\"], [1.0, \"#f0f921\"]]}, \"colorway\": [\"#636efa\", \"#EF553B\", \"#00cc96\", \"#ab63fa\", \"#FFA15A\", \"#19d3f3\", \"#FF6692\", \"#B6E880\", \"#FF97FF\", \"#FECB52\"], \"font\": {\"color\": \"#2a3f5f\"}, \"geo\": {\"bgcolor\": \"white\", \"lakecolor\": \"white\", \"landcolor\": \"#E5ECF6\", \"showlakes\": true, \"showland\": true, \"subunitcolor\": \"white\"}, \"hoverlabel\": {\"align\": \"left\"}, \"hovermode\": \"closest\", \"mapbox\": {\"style\": \"light\"}, \"paper_bgcolor\": \"white\", \"plot_bgcolor\": \"#E5ECF6\", \"polar\": {\"angularaxis\": {\"gridcolor\": \"white\", \"linecolor\": \"white\", \"ticks\": \"\"}, \"bgcolor\": \"#E5ECF6\", \"radialaxis\": {\"gridcolor\": \"white\", \"linecolor\": \"white\", \"ticks\": \"\"}}, \"scene\": {\"xaxis\": {\"backgroundcolor\": \"#E5ECF6\", \"gridcolor\": \"white\", \"gridwidth\": 2, \"linecolor\": \"white\", \"showbackground\": true, \"ticks\": \"\", \"zerolinecolor\": \"white\"}, \"yaxis\": {\"backgroundcolor\": \"#E5ECF6\", \"gridcolor\": \"white\", \"gridwidth\": 2, \"linecolor\": \"white\", \"showbackground\": true, \"ticks\": \"\", \"zerolinecolor\": \"white\"}, \"zaxis\": {\"backgroundcolor\": \"#E5ECF6\", \"gridcolor\": \"white\", \"gridwidth\": 2, \"linecolor\": \"white\", \"showbackground\": true, \"ticks\": \"\", \"zerolinecolor\": \"white\"}}, \"shapedefaults\": {\"line\": {\"color\": \"#2a3f5f\"}}, \"ternary\": {\"aaxis\": {\"gridcolor\": \"white\", \"linecolor\": \"white\", \"ticks\": \"\"}, \"baxis\": {\"gridcolor\": \"white\", \"linecolor\": \"white\", \"ticks\": \"\"}, \"bgcolor\": \"#E5ECF6\", \"caxis\": {\"gridcolor\": \"white\", \"linecolor\": \"white\", \"ticks\": \"\"}}, \"title\": {\"x\": 0.05}, \"xaxis\": {\"automargin\": true, \"gridcolor\": \"white\", \"linecolor\": \"white\", \"ticks\": \"\", \"title\": {\"standoff\": 15}, \"zerolinecolor\": \"white\", \"zerolinewidth\": 2}, \"yaxis\": {\"automargin\": true, \"gridcolor\": \"white\", \"linecolor\": \"white\", \"ticks\": \"\", \"title\": {\"standoff\": 15}, \"zerolinecolor\": \"white\", \"zerolinewidth\": 2}}}, \"title\": {\"text\": \"P(dividend | overnight return < threshold)\"}, \"xaxis\": {\"anchor\": \"y\", \"domain\": [0.0, 1.0], \"title\": {\"text\": \"return threshold\"}}, \"yaxis\": {\"anchor\": \"x\", \"domain\": [0.0, 1.0], \"title\": {\"text\": \"probability there was a dividend\"}}},                        {\"responsive\": true}                    ).then(function(){\n",
       "                            \n",
       "var gd = document.getElementById('14005bcb-cd98-44cc-9963-e59c8216cb67');\n",
       "var x = new MutationObserver(function (mutations, observer) {{\n",
       "        var display = window.getComputedStyle(gd).display;\n",
       "        if (!display || display === 'none') {{\n",
       "            console.log([gd, 'removed!']);\n",
       "            Plotly.purge(gd);\n",
       "            observer.disconnect();\n",
       "        }}\n",
       "}});\n",
       "\n",
       "// Listen for the removal of the full notebook cells\n",
       "var notebookContainer = gd.closest('#notebook-container');\n",
       "if (notebookContainer) {{\n",
       "    x.observe(notebookContainer, {childList: true});\n",
       "}}\n",
       "\n",
       "// Listen for the clearing of the current output cell\n",
       "var outputEl = gd.closest('.output');\n",
       "if (outputEl) {{\n",
       "    x.observe(outputEl, {childList: true});\n",
       "}}\n",
       "\n",
       "                        })                };                });            </script>        </div>"
      ]
     },
     "metadata": {},
     "output_type": "display_data"
    }
   ],
   "source": [
    "px.scatter(\n",
    "    x=thresholds_list,\n",
    "    y=y,\n",
    "    labels={'x': 'return threshold', 'y': 'probability there was a dividend'},\n",
    "    title='P(dividend | overnight return < threshold)'\n",
    ")"
   ]
  },
  {
   "cell_type": "markdown",
   "metadata": {},
   "source": [
    "Largest prob we get is for an overnight return threshold of -2.2%, which gives a probability of 7.7% there was a dividend"
   ]
  }
 ],
 "metadata": {
  "kernelspec": {
   "display_name": "Python 3",
   "language": "python",
   "name": "python3"
  },
  "language_info": {
   "codemirror_mode": {
    "name": "ipython",
    "version": 3
   },
   "file_extension": ".py",
   "mimetype": "text/x-python",
   "name": "python",
   "nbconvert_exporter": "python",
   "pygments_lexer": "ipython3",
   "version": "3.7.4"
  }
 },
 "nbformat": 4,
 "nbformat_minor": 2
}
