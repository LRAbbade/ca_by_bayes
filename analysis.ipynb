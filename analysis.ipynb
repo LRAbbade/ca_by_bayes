{
 "cells": [
  {
   "cell_type": "code",
   "execution_count": 8,
   "metadata": {},
   "outputs": [],
   "source": [
    "import numpy as np\n",
    "import pandas as pd"
   ]
  },
  {
   "cell_type": "code",
   "execution_count": 14,
   "metadata": {},
   "outputs": [],
   "source": [
    "df = pd.read_parquet('data/itub_2021.parquet')"
   ]
  },
  {
   "cell_type": "code",
   "execution_count": 15,
   "metadata": {},
   "outputs": [],
   "source": [
    "divs_df = pd.read_parquet('data/itub_divs_2021.parquet')"
   ]
  },
  {
   "cell_type": "code",
   "execution_count": 16,
   "metadata": {},
   "outputs": [],
   "source": [
    "df = df.join(divs_df)\n",
    "df['has_div'] = df['value'].map(lambda v: not np.isnan(v))"
   ]
  },
  {
   "cell_type": "code",
   "execution_count": 19,
   "metadata": {},
   "outputs": [
    {
     "data": {
      "text/html": [
       "<div>\n",
       "<style scoped>\n",
       "    .dataframe tbody tr th:only-of-type {\n",
       "        vertical-align: middle;\n",
       "    }\n",
       "\n",
       "    .dataframe tbody tr th {\n",
       "        vertical-align: top;\n",
       "    }\n",
       "\n",
       "    .dataframe thead th {\n",
       "        text-align: right;\n",
       "    }\n",
       "</style>\n",
       "<table border=\"1\" class=\"dataframe\">\n",
       "  <thead>\n",
       "    <tr style=\"text-align: right;\">\n",
       "      <th></th>\n",
       "      <th>open</th>\n",
       "      <th>close</th>\n",
       "      <th>next_open</th>\n",
       "      <th>overnight</th>\n",
       "      <th>div_type</th>\n",
       "      <th>value</th>\n",
       "      <th>has_div</th>\n",
       "    </tr>\n",
       "  </thead>\n",
       "  <tbody>\n",
       "    <tr>\n",
       "      <th>2021-01-22</th>\n",
       "      <td>29.25</td>\n",
       "      <td>29.27</td>\n",
       "      <td>28.99</td>\n",
       "      <td>-0.009566</td>\n",
       "      <td>JCP</td>\n",
       "      <td>0.050160</td>\n",
       "      <td>True</td>\n",
       "    </tr>\n",
       "    <tr>\n",
       "      <th>2021-01-29</th>\n",
       "      <td>29.22</td>\n",
       "      <td>28.34</td>\n",
       "      <td>29.00</td>\n",
       "      <td>0.023289</td>\n",
       "      <td>Dividendo</td>\n",
       "      <td>0.015000</td>\n",
       "      <td>True</td>\n",
       "    </tr>\n",
       "    <tr>\n",
       "      <th>2021-02-25</th>\n",
       "      <td>26.90</td>\n",
       "      <td>26.08</td>\n",
       "      <td>26.20</td>\n",
       "      <td>0.004601</td>\n",
       "      <td>Dividendo</td>\n",
       "      <td>0.096407</td>\n",
       "      <td>True</td>\n",
       "    </tr>\n",
       "    <tr>\n",
       "      <th>2021-02-25</th>\n",
       "      <td>26.90</td>\n",
       "      <td>26.08</td>\n",
       "      <td>26.20</td>\n",
       "      <td>0.004601</td>\n",
       "      <td>JCP</td>\n",
       "      <td>0.050580</td>\n",
       "      <td>True</td>\n",
       "    </tr>\n",
       "    <tr>\n",
       "      <th>2021-02-26</th>\n",
       "      <td>26.20</td>\n",
       "      <td>25.55</td>\n",
       "      <td>25.90</td>\n",
       "      <td>0.013699</td>\n",
       "      <td>Dividendo</td>\n",
       "      <td>0.015000</td>\n",
       "      <td>True</td>\n",
       "    </tr>\n",
       "    <tr>\n",
       "      <th>2021-03-25</th>\n",
       "      <td>27.00</td>\n",
       "      <td>27.65</td>\n",
       "      <td>27.52</td>\n",
       "      <td>-0.004702</td>\n",
       "      <td>JCP</td>\n",
       "      <td>0.050640</td>\n",
       "      <td>True</td>\n",
       "    </tr>\n",
       "    <tr>\n",
       "      <th>2021-03-31</th>\n",
       "      <td>28.31</td>\n",
       "      <td>27.97</td>\n",
       "      <td>28.13</td>\n",
       "      <td>0.005720</td>\n",
       "      <td>Dividendo</td>\n",
       "      <td>0.015000</td>\n",
       "      <td>True</td>\n",
       "    </tr>\n",
       "    <tr>\n",
       "      <th>2021-04-27</th>\n",
       "      <td>27.47</td>\n",
       "      <td>27.09</td>\n",
       "      <td>27.52</td>\n",
       "      <td>0.015873</td>\n",
       "      <td>JCP</td>\n",
       "      <td>0.056480</td>\n",
       "      <td>True</td>\n",
       "    </tr>\n",
       "    <tr>\n",
       "      <th>2021-04-30</th>\n",
       "      <td>27.18</td>\n",
       "      <td>27.53</td>\n",
       "      <td>27.70</td>\n",
       "      <td>0.006175</td>\n",
       "      <td>Dividendo</td>\n",
       "      <td>0.015000</td>\n",
       "      <td>True</td>\n",
       "    </tr>\n",
       "    <tr>\n",
       "      <th>2021-05-24</th>\n",
       "      <td>29.52</td>\n",
       "      <td>29.35</td>\n",
       "      <td>29.32</td>\n",
       "      <td>-0.001022</td>\n",
       "      <td>JCP</td>\n",
       "      <td>0.048740</td>\n",
       "      <td>True</td>\n",
       "    </tr>\n",
       "    <tr>\n",
       "      <th>2021-05-31</th>\n",
       "      <td>29.67</td>\n",
       "      <td>29.54</td>\n",
       "      <td>29.84</td>\n",
       "      <td>0.010156</td>\n",
       "      <td>Dividendo</td>\n",
       "      <td>0.015000</td>\n",
       "      <td>True</td>\n",
       "    </tr>\n",
       "    <tr>\n",
       "      <th>2021-06-30</th>\n",
       "      <td>30.00</td>\n",
       "      <td>29.80</td>\n",
       "      <td>29.79</td>\n",
       "      <td>-0.000336</td>\n",
       "      <td>Dividendo</td>\n",
       "      <td>0.015000</td>\n",
       "      <td>True</td>\n",
       "    </tr>\n",
       "    <tr>\n",
       "      <th>2021-07-30</th>\n",
       "      <td>30.40</td>\n",
       "      <td>30.30</td>\n",
       "      <td>30.80</td>\n",
       "      <td>0.016502</td>\n",
       "      <td>Dividendo</td>\n",
       "      <td>0.015000</td>\n",
       "      <td>True</td>\n",
       "    </tr>\n",
       "    <tr>\n",
       "      <th>2021-08-13</th>\n",
       "      <td>30.42</td>\n",
       "      <td>30.78</td>\n",
       "      <td>30.66</td>\n",
       "      <td>-0.003899</td>\n",
       "      <td>JCP</td>\n",
       "      <td>0.103840</td>\n",
       "      <td>True</td>\n",
       "    </tr>\n",
       "    <tr>\n",
       "      <th>2021-08-31</th>\n",
       "      <td>30.63</td>\n",
       "      <td>30.94</td>\n",
       "      <td>31.06</td>\n",
       "      <td>0.003878</td>\n",
       "      <td>Dividendo</td>\n",
       "      <td>0.015000</td>\n",
       "      <td>True</td>\n",
       "    </tr>\n",
       "    <tr>\n",
       "      <th>2021-09-30</th>\n",
       "      <td>29.09</td>\n",
       "      <td>28.93</td>\n",
       "      <td>29.12</td>\n",
       "      <td>0.006568</td>\n",
       "      <td>Dividendo</td>\n",
       "      <td>0.015000</td>\n",
       "      <td>True</td>\n",
       "    </tr>\n",
       "    <tr>\n",
       "      <th>2021-10-29</th>\n",
       "      <td>23.94</td>\n",
       "      <td>23.31</td>\n",
       "      <td>23.71</td>\n",
       "      <td>0.017160</td>\n",
       "      <td>JCP</td>\n",
       "      <td>0.017650</td>\n",
       "      <td>True</td>\n",
       "    </tr>\n",
       "    <tr>\n",
       "      <th>2021-11-19</th>\n",
       "      <td>22.40</td>\n",
       "      <td>22.28</td>\n",
       "      <td>22.01</td>\n",
       "      <td>-0.012118</td>\n",
       "      <td>JCP</td>\n",
       "      <td>0.264551</td>\n",
       "      <td>True</td>\n",
       "    </tr>\n",
       "    <tr>\n",
       "      <th>2021-11-30</th>\n",
       "      <td>22.68</td>\n",
       "      <td>22.38</td>\n",
       "      <td>22.56</td>\n",
       "      <td>0.008043</td>\n",
       "      <td>JCP</td>\n",
       "      <td>0.017650</td>\n",
       "      <td>True</td>\n",
       "    </tr>\n",
       "  </tbody>\n",
       "</table>\n",
       "</div>"
      ],
      "text/plain": [
       "             open  close  next_open  overnight   div_type     value  has_div\n",
       "2021-01-22  29.25  29.27      28.99  -0.009566        JCP  0.050160     True\n",
       "2021-01-29  29.22  28.34      29.00   0.023289  Dividendo  0.015000     True\n",
       "2021-02-25  26.90  26.08      26.20   0.004601  Dividendo  0.096407     True\n",
       "2021-02-25  26.90  26.08      26.20   0.004601        JCP  0.050580     True\n",
       "2021-02-26  26.20  25.55      25.90   0.013699  Dividendo  0.015000     True\n",
       "2021-03-25  27.00  27.65      27.52  -0.004702        JCP  0.050640     True\n",
       "2021-03-31  28.31  27.97      28.13   0.005720  Dividendo  0.015000     True\n",
       "2021-04-27  27.47  27.09      27.52   0.015873        JCP  0.056480     True\n",
       "2021-04-30  27.18  27.53      27.70   0.006175  Dividendo  0.015000     True\n",
       "2021-05-24  29.52  29.35      29.32  -0.001022        JCP  0.048740     True\n",
       "2021-05-31  29.67  29.54      29.84   0.010156  Dividendo  0.015000     True\n",
       "2021-06-30  30.00  29.80      29.79  -0.000336  Dividendo  0.015000     True\n",
       "2021-07-30  30.40  30.30      30.80   0.016502  Dividendo  0.015000     True\n",
       "2021-08-13  30.42  30.78      30.66  -0.003899        JCP  0.103840     True\n",
       "2021-08-31  30.63  30.94      31.06   0.003878  Dividendo  0.015000     True\n",
       "2021-09-30  29.09  28.93      29.12   0.006568  Dividendo  0.015000     True\n",
       "2021-10-29  23.94  23.31      23.71   0.017160        JCP  0.017650     True\n",
       "2021-11-19  22.40  22.28      22.01  -0.012118        JCP  0.264551     True\n",
       "2021-11-30  22.68  22.38      22.56   0.008043        JCP  0.017650     True"
      ]
     },
     "execution_count": 19,
     "metadata": {},
     "output_type": "execute_result"
    }
   ],
   "source": [
    "df[df['has_div']]"
   ]
  },
  {
   "cell_type": "markdown",
   "metadata": {},
   "source": [
    "I can already see this won't work because many of the days with divs actually have positive returns, which shouldn't be the case. I can maybe make it work for identifying very large divs, I'll try vale later, for now I'll just run it to the end and see the results"
   ]
  },
  {
   "cell_type": "markdown",
   "metadata": {},
   "source": [
    "Intuition:<br>\n",
    "event = there was a dividend<br>\n",
    "known = overnight return < -0.01<br>\n",
    "\n",
    "P(event | known) = P(known | event) * P(event) / P(known)"
   ]
  },
  {
   "cell_type": "markdown",
   "metadata": {},
   "source": [
    "Using -0.01 as a threshold for now, I'll try to optimize this later"
   ]
  },
  {
   "cell_type": "markdown",
   "metadata": {},
   "source": [
    "Obs.: I'll be calling both JCP and Dividendo as dividend from here on, for this test it's fine"
   ]
  },
  {
   "cell_type": "code",
   "execution_count": 26,
   "metadata": {},
   "outputs": [
    {
     "name": "stdout",
     "output_type": "stream",
     "text": [
      "probability there was a dividend = 7.69%\n",
      "probability of overnight return < -0.01 = 10.1%\n",
      "probability of overnight return < -0.01 when there's a dividend = 5.26%\n"
     ]
    }
   ],
   "source": [
    "threshold = -0.01\n",
    "prob_div = len(df[df['has_div']]) / len(df)\n",
    "prob_neg_ret = len(df[df['overnight'] < threshold]) / len(df)\n",
    "prob_neg_ret_by_div = len(df[(df['overnight'] < threshold) & (df['has_div'])]) / \\\n",
    "                      len(df[df['has_div']])\n",
    "\n",
    "print(f'probability there was a dividend = {100 * prob_div:.3}%')\n",
    "print(f'probability of overnight return < -0.01 = {100 * prob_neg_ret:.3}%')\n",
    "print(f'probability of overnight return < -0.01 when there\\'s a dividend = {100 * prob_neg_ret_by_div:.3}%')"
   ]
  },
  {
   "cell_type": "markdown",
   "metadata": {},
   "source": [
    "probability of overnight return < -0.01 is itself larger than when there's a div, which already defeats the premise"
   ]
  },
  {
   "cell_type": "code",
   "execution_count": 27,
   "metadata": {},
   "outputs": [
    {
     "name": "stdout",
     "output_type": "stream",
     "text": [
      "probability there was a dividend given the overnight return was < -0.01 = 14.8%\n"
     ]
    }
   ],
   "source": [
    "prob = prob_div * prob_neg_ret / prob_neg_ret_by_div\n",
    "print(f'probability there was a dividend given the overnight return was < -0.01 = {100 * prob:.3}%')"
   ]
  }
 ],
 "metadata": {
  "kernelspec": {
   "display_name": "Python 3",
   "language": "python",
   "name": "python3"
  },
  "language_info": {
   "codemirror_mode": {
    "name": "ipython",
    "version": 3
   },
   "file_extension": ".py",
   "mimetype": "text/x-python",
   "name": "python",
   "nbconvert_exporter": "python",
   "pygments_lexer": "ipython3",
   "version": "3.7.4"
  }
 },
 "nbformat": 4,
 "nbformat_minor": 2
}
